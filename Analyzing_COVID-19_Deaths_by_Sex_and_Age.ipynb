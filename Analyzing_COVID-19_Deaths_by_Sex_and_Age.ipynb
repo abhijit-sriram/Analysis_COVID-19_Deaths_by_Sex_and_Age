{
 "cells": [
  {
   "cell_type": "code",
   "execution_count": 1,
   "metadata": {},
   "outputs": [],
   "source": [
    "import pandas as pd\n",
    "import matplotlib.pyplot as plt\n",
    "import seaborn as sns"
   ]
  },
  {
   "cell_type": "code",
   "execution_count": 2,
   "metadata": {},
   "outputs": [
    {
     "data": {
      "text/html": [
       "<div>\n",
       "<style scoped>\n",
       "    .dataframe tbody tr th:only-of-type {\n",
       "        vertical-align: middle;\n",
       "    }\n",
       "\n",
       "    .dataframe tbody tr th {\n",
       "        vertical-align: top;\n",
       "    }\n",
       "\n",
       "    .dataframe thead th {\n",
       "        text-align: right;\n",
       "    }\n",
       "</style>\n",
       "<table border=\"1\" class=\"dataframe\">\n",
       "  <thead>\n",
       "    <tr style=\"text-align: right;\">\n",
       "      <th></th>\n",
       "      <th>Data As Of</th>\n",
       "      <th>Start Date</th>\n",
       "      <th>End Date</th>\n",
       "      <th>Group</th>\n",
       "      <th>Year</th>\n",
       "      <th>Month</th>\n",
       "      <th>State</th>\n",
       "      <th>Sex</th>\n",
       "      <th>Age Group</th>\n",
       "      <th>COVID-19 Deaths</th>\n",
       "      <th>Total Deaths</th>\n",
       "      <th>Pneumonia Deaths</th>\n",
       "      <th>Pneumonia and COVID-19 Deaths</th>\n",
       "      <th>Influenza Deaths</th>\n",
       "      <th>Pneumonia, Influenza, or COVID-19 Deaths</th>\n",
       "      <th>Footnote</th>\n",
       "    </tr>\n",
       "  </thead>\n",
       "  <tbody>\n",
       "    <tr>\n",
       "      <th>0</th>\n",
       "      <td>11/23/2022</td>\n",
       "      <td>01/01/2020</td>\n",
       "      <td>11/19/2022</td>\n",
       "      <td>By Total</td>\n",
       "      <td>NaN</td>\n",
       "      <td>NaN</td>\n",
       "      <td>United States</td>\n",
       "      <td>All Sexes</td>\n",
       "      <td>All Ages</td>\n",
       "      <td>1072281.0</td>\n",
       "      <td>9646378.0</td>\n",
       "      <td>995217.0</td>\n",
       "      <td>542213.0</td>\n",
       "      <td>12920.0</td>\n",
       "      <td>1536351.0</td>\n",
       "      <td>NaN</td>\n",
       "    </tr>\n",
       "    <tr>\n",
       "      <th>1</th>\n",
       "      <td>11/23/2022</td>\n",
       "      <td>01/01/2020</td>\n",
       "      <td>11/19/2022</td>\n",
       "      <td>By Total</td>\n",
       "      <td>NaN</td>\n",
       "      <td>NaN</td>\n",
       "      <td>United States</td>\n",
       "      <td>All Sexes</td>\n",
       "      <td>Under 1 year</td>\n",
       "      <td>385.0</td>\n",
       "      <td>56066.0</td>\n",
       "      <td>751.0</td>\n",
       "      <td>64.0</td>\n",
       "      <td>44.0</td>\n",
       "      <td>1114.0</td>\n",
       "      <td>NaN</td>\n",
       "    </tr>\n",
       "    <tr>\n",
       "      <th>2</th>\n",
       "      <td>11/23/2022</td>\n",
       "      <td>01/01/2020</td>\n",
       "      <td>11/19/2022</td>\n",
       "      <td>By Total</td>\n",
       "      <td>NaN</td>\n",
       "      <td>NaN</td>\n",
       "      <td>United States</td>\n",
       "      <td>All Sexes</td>\n",
       "      <td>0-17 years</td>\n",
       "      <td>1368.0</td>\n",
       "      <td>99685.0</td>\n",
       "      <td>2079.0</td>\n",
       "      <td>349.0</td>\n",
       "      <td>279.0</td>\n",
       "      <td>3363.0</td>\n",
       "      <td>NaN</td>\n",
       "    </tr>\n",
       "    <tr>\n",
       "      <th>3</th>\n",
       "      <td>11/23/2022</td>\n",
       "      <td>01/01/2020</td>\n",
       "      <td>11/19/2022</td>\n",
       "      <td>By Total</td>\n",
       "      <td>NaN</td>\n",
       "      <td>NaN</td>\n",
       "      <td>United States</td>\n",
       "      <td>All Sexes</td>\n",
       "      <td>1-4 years</td>\n",
       "      <td>208.0</td>\n",
       "      <td>10709.0</td>\n",
       "      <td>445.0</td>\n",
       "      <td>48.0</td>\n",
       "      <td>91.0</td>\n",
       "      <td>692.0</td>\n",
       "      <td>NaN</td>\n",
       "    </tr>\n",
       "    <tr>\n",
       "      <th>4</th>\n",
       "      <td>11/23/2022</td>\n",
       "      <td>01/01/2020</td>\n",
       "      <td>11/19/2022</td>\n",
       "      <td>By Total</td>\n",
       "      <td>NaN</td>\n",
       "      <td>NaN</td>\n",
       "      <td>United States</td>\n",
       "      <td>All Sexes</td>\n",
       "      <td>5-14 years</td>\n",
       "      <td>427.0</td>\n",
       "      <td>16742.0</td>\n",
       "      <td>580.0</td>\n",
       "      <td>123.0</td>\n",
       "      <td>116.0</td>\n",
       "      <td>993.0</td>\n",
       "      <td>NaN</td>\n",
       "    </tr>\n",
       "    <tr>\n",
       "      <th>...</th>\n",
       "      <td>...</td>\n",
       "      <td>...</td>\n",
       "      <td>...</td>\n",
       "      <td>...</td>\n",
       "      <td>...</td>\n",
       "      <td>...</td>\n",
       "      <td>...</td>\n",
       "      <td>...</td>\n",
       "      <td>...</td>\n",
       "      <td>...</td>\n",
       "      <td>...</td>\n",
       "      <td>...</td>\n",
       "      <td>...</td>\n",
       "      <td>...</td>\n",
       "      <td>...</td>\n",
       "      <td>...</td>\n",
       "    </tr>\n",
       "    <tr>\n",
       "      <th>107401</th>\n",
       "      <td>11/23/2022</td>\n",
       "      <td>11/01/2022</td>\n",
       "      <td>11/19/2022</td>\n",
       "      <td>By Month</td>\n",
       "      <td>2022.0</td>\n",
       "      <td>11.0</td>\n",
       "      <td>Puerto Rico</td>\n",
       "      <td>Female</td>\n",
       "      <td>50-64 years</td>\n",
       "      <td>NaN</td>\n",
       "      <td>54.0</td>\n",
       "      <td>NaN</td>\n",
       "      <td>NaN</td>\n",
       "      <td>0.0</td>\n",
       "      <td>NaN</td>\n",
       "      <td>One or more data cells have counts between 1-9...</td>\n",
       "    </tr>\n",
       "    <tr>\n",
       "      <th>107402</th>\n",
       "      <td>11/23/2022</td>\n",
       "      <td>11/01/2022</td>\n",
       "      <td>11/19/2022</td>\n",
       "      <td>By Month</td>\n",
       "      <td>2022.0</td>\n",
       "      <td>11.0</td>\n",
       "      <td>Puerto Rico</td>\n",
       "      <td>Female</td>\n",
       "      <td>55-64 years</td>\n",
       "      <td>0.0</td>\n",
       "      <td>46.0</td>\n",
       "      <td>NaN</td>\n",
       "      <td>0.0</td>\n",
       "      <td>0.0</td>\n",
       "      <td>NaN</td>\n",
       "      <td>One or more data cells have counts between 1-9...</td>\n",
       "    </tr>\n",
       "    <tr>\n",
       "      <th>107403</th>\n",
       "      <td>11/23/2022</td>\n",
       "      <td>11/01/2022</td>\n",
       "      <td>11/19/2022</td>\n",
       "      <td>By Month</td>\n",
       "      <td>2022.0</td>\n",
       "      <td>11.0</td>\n",
       "      <td>Puerto Rico</td>\n",
       "      <td>Female</td>\n",
       "      <td>65-74 years</td>\n",
       "      <td>NaN</td>\n",
       "      <td>106.0</td>\n",
       "      <td>13.0</td>\n",
       "      <td>NaN</td>\n",
       "      <td>0.0</td>\n",
       "      <td>14.0</td>\n",
       "      <td>One or more data cells have counts between 1-9...</td>\n",
       "    </tr>\n",
       "    <tr>\n",
       "      <th>107404</th>\n",
       "      <td>11/23/2022</td>\n",
       "      <td>11/01/2022</td>\n",
       "      <td>11/19/2022</td>\n",
       "      <td>By Month</td>\n",
       "      <td>2022.0</td>\n",
       "      <td>11.0</td>\n",
       "      <td>Puerto Rico</td>\n",
       "      <td>Female</td>\n",
       "      <td>75-84 years</td>\n",
       "      <td>10.0</td>\n",
       "      <td>151.0</td>\n",
       "      <td>26.0</td>\n",
       "      <td>NaN</td>\n",
       "      <td>NaN</td>\n",
       "      <td>30.0</td>\n",
       "      <td>One or more data cells have counts between 1-9...</td>\n",
       "    </tr>\n",
       "    <tr>\n",
       "      <th>107405</th>\n",
       "      <td>11/23/2022</td>\n",
       "      <td>11/01/2022</td>\n",
       "      <td>11/19/2022</td>\n",
       "      <td>By Month</td>\n",
       "      <td>2022.0</td>\n",
       "      <td>11.0</td>\n",
       "      <td>Puerto Rico</td>\n",
       "      <td>Female</td>\n",
       "      <td>85 years and over</td>\n",
       "      <td>15.0</td>\n",
       "      <td>186.0</td>\n",
       "      <td>34.0</td>\n",
       "      <td>NaN</td>\n",
       "      <td>NaN</td>\n",
       "      <td>40.0</td>\n",
       "      <td>One or more data cells have counts between 1-9...</td>\n",
       "    </tr>\n",
       "  </tbody>\n",
       "</table>\n",
       "<p>107406 rows × 16 columns</p>\n",
       "</div>"
      ],
      "text/plain": [
       "        Data As Of  Start Date    End Date     Group    Year  Month  \\\n",
       "0       11/23/2022  01/01/2020  11/19/2022  By Total     NaN    NaN   \n",
       "1       11/23/2022  01/01/2020  11/19/2022  By Total     NaN    NaN   \n",
       "2       11/23/2022  01/01/2020  11/19/2022  By Total     NaN    NaN   \n",
       "3       11/23/2022  01/01/2020  11/19/2022  By Total     NaN    NaN   \n",
       "4       11/23/2022  01/01/2020  11/19/2022  By Total     NaN    NaN   \n",
       "...            ...         ...         ...       ...     ...    ...   \n",
       "107401  11/23/2022  11/01/2022  11/19/2022  By Month  2022.0   11.0   \n",
       "107402  11/23/2022  11/01/2022  11/19/2022  By Month  2022.0   11.0   \n",
       "107403  11/23/2022  11/01/2022  11/19/2022  By Month  2022.0   11.0   \n",
       "107404  11/23/2022  11/01/2022  11/19/2022  By Month  2022.0   11.0   \n",
       "107405  11/23/2022  11/01/2022  11/19/2022  By Month  2022.0   11.0   \n",
       "\n",
       "                State        Sex          Age Group  COVID-19 Deaths  \\\n",
       "0       United States  All Sexes           All Ages        1072281.0   \n",
       "1       United States  All Sexes       Under 1 year            385.0   \n",
       "2       United States  All Sexes         0-17 years           1368.0   \n",
       "3       United States  All Sexes          1-4 years            208.0   \n",
       "4       United States  All Sexes         5-14 years            427.0   \n",
       "...               ...        ...                ...              ...   \n",
       "107401    Puerto Rico     Female        50-64 years              NaN   \n",
       "107402    Puerto Rico     Female        55-64 years              0.0   \n",
       "107403    Puerto Rico     Female        65-74 years              NaN   \n",
       "107404    Puerto Rico     Female        75-84 years             10.0   \n",
       "107405    Puerto Rico     Female  85 years and over             15.0   \n",
       "\n",
       "        Total Deaths  Pneumonia Deaths  Pneumonia and COVID-19 Deaths  \\\n",
       "0          9646378.0          995217.0                       542213.0   \n",
       "1            56066.0             751.0                           64.0   \n",
       "2            99685.0            2079.0                          349.0   \n",
       "3            10709.0             445.0                           48.0   \n",
       "4            16742.0             580.0                          123.0   \n",
       "...              ...               ...                            ...   \n",
       "107401          54.0               NaN                            NaN   \n",
       "107402          46.0               NaN                            0.0   \n",
       "107403         106.0              13.0                            NaN   \n",
       "107404         151.0              26.0                            NaN   \n",
       "107405         186.0              34.0                            NaN   \n",
       "\n",
       "        Influenza Deaths  Pneumonia, Influenza, or COVID-19 Deaths  \\\n",
       "0                12920.0                                 1536351.0   \n",
       "1                   44.0                                    1114.0   \n",
       "2                  279.0                                    3363.0   \n",
       "3                   91.0                                     692.0   \n",
       "4                  116.0                                     993.0   \n",
       "...                  ...                                       ...   \n",
       "107401               0.0                                       NaN   \n",
       "107402               0.0                                       NaN   \n",
       "107403               0.0                                      14.0   \n",
       "107404               NaN                                      30.0   \n",
       "107405               NaN                                      40.0   \n",
       "\n",
       "                                                 Footnote  \n",
       "0                                                     NaN  \n",
       "1                                                     NaN  \n",
       "2                                                     NaN  \n",
       "3                                                     NaN  \n",
       "4                                                     NaN  \n",
       "...                                                   ...  \n",
       "107401  One or more data cells have counts between 1-9...  \n",
       "107402  One or more data cells have counts between 1-9...  \n",
       "107403  One or more data cells have counts between 1-9...  \n",
       "107404  One or more data cells have counts between 1-9...  \n",
       "107405  One or more data cells have counts between 1-9...  \n",
       "\n",
       "[107406 rows x 16 columns]"
      ]
     },
     "execution_count": 2,
     "metadata": {},
     "output_type": "execute_result"
    }
   ],
   "source": [
    "df=pd.read_csv(\"Provisional_COVID-19_Deaths_by_Sex_and_Age (2).csv\")#importing data set\n",
    "\n",
    "df"
   ]
  },
  {
   "cell_type": "code",
   "execution_count": 3,
   "metadata": {},
   "outputs": [
    {
     "name": "stdout",
     "output_type": "stream",
     "text": [
      "<class 'pandas.core.frame.DataFrame'>\n",
      "RangeIndex: 107406 entries, 0 to 107405\n",
      "Data columns (total 16 columns):\n",
      " #   Column                                    Non-Null Count   Dtype  \n",
      "---  ------                                    --------------   -----  \n",
      " 0   Data As Of                                107406 non-null  object \n",
      " 1   Start Date                                107406 non-null  object \n",
      " 2   End Date                                  107406 non-null  object \n",
      " 3   Group                                     107406 non-null  object \n",
      " 4   Year                                      104652 non-null  float64\n",
      " 5   Month                                     96390 non-null   float64\n",
      " 6   State                                     107406 non-null  object \n",
      " 7   Sex                                       107406 non-null  object \n",
      " 8   Age Group                                 107406 non-null  object \n",
      " 9   COVID-19 Deaths                           78044 non-null   float64\n",
      " 10  Total Deaths                              92037 non-null   float64\n",
      " 11  Pneumonia Deaths                          73835 non-null   float64\n",
      " 12  Pneumonia and COVID-19 Deaths             79138 non-null   float64\n",
      " 13  Influenza Deaths                          88157 non-null   float64\n",
      " 14  Pneumonia, Influenza, or COVID-19 Deaths  74546 non-null   float64\n",
      " 15  Footnote                                  73985 non-null   object \n",
      "dtypes: float64(8), object(8)\n",
      "memory usage: 13.1+ MB\n"
     ]
    }
   ],
   "source": [
    "df.info() # to get the info of the data."
   ]
  },
  {
   "cell_type": "code",
   "execution_count": 4,
   "metadata": {},
   "outputs": [],
   "source": [
    "df['Month'].fillna(value=df['Month'].mean(),inplace=True) #to replace month with mean of the entire month column."
   ]
  },
  {
   "cell_type": "code",
   "execution_count": 5,
   "metadata": {},
   "outputs": [
    {
     "name": "stdout",
     "output_type": "stream",
     "text": [
      "<class 'pandas.core.frame.DataFrame'>\n",
      "RangeIndex: 107406 entries, 0 to 107405\n",
      "Data columns (total 16 columns):\n",
      " #   Column                                    Non-Null Count   Dtype  \n",
      "---  ------                                    --------------   -----  \n",
      " 0   Data As Of                                107406 non-null  object \n",
      " 1   Start Date                                107406 non-null  object \n",
      " 2   End Date                                  107406 non-null  object \n",
      " 3   Group                                     107406 non-null  object \n",
      " 4   Year                                      104652 non-null  float64\n",
      " 5   Month                                     107406 non-null  float64\n",
      " 6   State                                     107406 non-null  object \n",
      " 7   Sex                                       107406 non-null  object \n",
      " 8   Age Group                                 107406 non-null  object \n",
      " 9   COVID-19 Deaths                           78044 non-null   float64\n",
      " 10  Total Deaths                              92037 non-null   float64\n",
      " 11  Pneumonia Deaths                          73835 non-null   float64\n",
      " 12  Pneumonia and COVID-19 Deaths             79138 non-null   float64\n",
      " 13  Influenza Deaths                          88157 non-null   float64\n",
      " 14  Pneumonia, Influenza, or COVID-19 Deaths  74546 non-null   float64\n",
      " 15  Footnote                                  73985 non-null   object \n",
      "dtypes: float64(8), object(8)\n",
      "memory usage: 13.1+ MB\n"
     ]
    }
   ],
   "source": [
    "df.info()"
   ]
  },
  {
   "cell_type": "code",
   "execution_count": 6,
   "metadata": {},
   "outputs": [],
   "source": [
    "df['COVID-19 Deaths'].fillna(value=df['COVID-19 Deaths'].mean(),inplace=True)#to replace covid-19 with mean of the entire covid-19 column."
   ]
  },
  {
   "cell_type": "code",
   "execution_count": 7,
   "metadata": {},
   "outputs": [],
   "source": [
    "df['Total Deaths'].fillna(value=df['Total Deaths'].mean(),inplace=True)#to replace total_deaths with mean of the entire covid-19 column."
   ]
  },
  {
   "cell_type": "code",
   "execution_count": 8,
   "metadata": {},
   "outputs": [],
   "source": [
    "df['Pneumonia Deaths'].fillna(value=df['Pneumonia Deaths'].mean(),inplace=True)"
   ]
  },
  {
   "cell_type": "code",
   "execution_count": 9,
   "metadata": {},
   "outputs": [],
   "source": [
    "df['Pneumonia and COVID-19 Deaths'].fillna(value=df['Pneumonia and COVID-19 Deaths'].mean(),inplace=True)"
   ]
  },
  {
   "cell_type": "code",
   "execution_count": 10,
   "metadata": {},
   "outputs": [],
   "source": [
    "df['Influenza Deaths'].fillna(value=df['Influenza Deaths'].mean(),inplace=True)\n",
    "df['Pneumonia, Influenza, or COVID-19 Deaths'].fillna(value=df['Pneumonia, Influenza, or COVID-19 Deaths'].mean(),inplace=True)\n"
   ]
  },
  {
   "cell_type": "code",
   "execution_count": 11,
   "metadata": {},
   "outputs": [
    {
     "name": "stdout",
     "output_type": "stream",
     "text": [
      "<class 'pandas.core.frame.DataFrame'>\n",
      "RangeIndex: 107406 entries, 0 to 107405\n",
      "Data columns (total 16 columns):\n",
      " #   Column                                    Non-Null Count   Dtype  \n",
      "---  ------                                    --------------   -----  \n",
      " 0   Data As Of                                107406 non-null  object \n",
      " 1   Start Date                                107406 non-null  object \n",
      " 2   End Date                                  107406 non-null  object \n",
      " 3   Group                                     107406 non-null  object \n",
      " 4   Year                                      104652 non-null  float64\n",
      " 5   Month                                     107406 non-null  float64\n",
      " 6   State                                     107406 non-null  object \n",
      " 7   Sex                                       107406 non-null  object \n",
      " 8   Age Group                                 107406 non-null  object \n",
      " 9   COVID-19 Deaths                           107406 non-null  float64\n",
      " 10  Total Deaths                              107406 non-null  float64\n",
      " 11  Pneumonia Deaths                          107406 non-null  float64\n",
      " 12  Pneumonia and COVID-19 Deaths             107406 non-null  float64\n",
      " 13  Influenza Deaths                          107406 non-null  float64\n",
      " 14  Pneumonia, Influenza, or COVID-19 Deaths  107406 non-null  float64\n",
      " 15  Footnote                                  73985 non-null   object \n",
      "dtypes: float64(8), object(8)\n",
      "memory usage: 13.1+ MB\n"
     ]
    }
   ],
   "source": [
    "df.info()"
   ]
  },
  {
   "cell_type": "code",
   "execution_count": 12,
   "metadata": {},
   "outputs": [],
   "source": [
    "df['Footnote'].fillna(value=df['Footnote'].mode(),inplace=True)"
   ]
  },
  {
   "cell_type": "code",
   "execution_count": 13,
   "metadata": {},
   "outputs": [
    {
     "name": "stdout",
     "output_type": "stream",
     "text": [
      "<class 'pandas.core.frame.DataFrame'>\n",
      "RangeIndex: 107406 entries, 0 to 107405\n",
      "Data columns (total 16 columns):\n",
      " #   Column                                    Non-Null Count   Dtype  \n",
      "---  ------                                    --------------   -----  \n",
      " 0   Data As Of                                107406 non-null  object \n",
      " 1   Start Date                                107406 non-null  object \n",
      " 2   End Date                                  107406 non-null  object \n",
      " 3   Group                                     107406 non-null  object \n",
      " 4   Year                                      104652 non-null  float64\n",
      " 5   Month                                     107406 non-null  float64\n",
      " 6   State                                     107406 non-null  object \n",
      " 7   Sex                                       107406 non-null  object \n",
      " 8   Age Group                                 107406 non-null  object \n",
      " 9   COVID-19 Deaths                           107406 non-null  float64\n",
      " 10  Total Deaths                              107406 non-null  float64\n",
      " 11  Pneumonia Deaths                          107406 non-null  float64\n",
      " 12  Pneumonia and COVID-19 Deaths             107406 non-null  float64\n",
      " 13  Influenza Deaths                          107406 non-null  float64\n",
      " 14  Pneumonia, Influenza, or COVID-19 Deaths  107406 non-null  float64\n",
      " 15  Footnote                                  73986 non-null   object \n",
      "dtypes: float64(8), object(8)\n",
      "memory usage: 13.1+ MB\n"
     ]
    }
   ],
   "source": [
    "df.info()"
   ]
  },
  {
   "cell_type": "code",
   "execution_count": 14,
   "metadata": {},
   "outputs": [
    {
     "data": {
      "text/plain": [
       "0            NaN\n",
       "1            NaN\n",
       "2            NaN\n",
       "3            NaN\n",
       "4            NaN\n",
       "           ...  \n",
       "107401    2022.0\n",
       "107402    2022.0\n",
       "107403    2022.0\n",
       "107404    2022.0\n",
       "107405    2022.0\n",
       "Name: Year, Length: 107406, dtype: float64"
      ]
     },
     "execution_count": 14,
     "metadata": {},
     "output_type": "execute_result"
    }
   ],
   "source": [
    "df['Year']"
   ]
  },
  {
   "cell_type": "code",
   "execution_count": 15,
   "metadata": {},
   "outputs": [],
   "source": [
    "df['Year'].fillna(value=df['Year'].mean(),inplace=True)"
   ]
  },
  {
   "cell_type": "code",
   "execution_count": 20,
   "metadata": {},
   "outputs": [],
   "source": [
    "df['Year'] = df['Year'].replace([2020.9736842105262],[2020])"
   ]
  },
  {
   "cell_type": "code",
   "execution_count": 21,
   "metadata": {},
   "outputs": [
    {
     "data": {
      "text/plain": [
       "0         2020.0\n",
       "1         2020.0\n",
       "2         2020.0\n",
       "3         2020.0\n",
       "4         2020.0\n",
       "           ...  \n",
       "107401    2022.0\n",
       "107402    2022.0\n",
       "107403    2022.0\n",
       "107404    2022.0\n",
       "107405    2022.0\n",
       "Name: Year, Length: 107406, dtype: float64"
      ]
     },
     "execution_count": 21,
     "metadata": {},
     "output_type": "execute_result"
    }
   ],
   "source": [
    "df.Year"
   ]
  },
  {
   "cell_type": "code",
   "execution_count": 22,
   "metadata": {},
   "outputs": [],
   "source": [
    "df.columns = [df.replace(' ', '_') for df in df.columns]"
   ]
  },
  {
   "cell_type": "code",
   "execution_count": 23,
   "metadata": {},
   "outputs": [
    {
     "name": "stdout",
     "output_type": "stream",
     "text": [
      "<class 'pandas.core.frame.DataFrame'>\n",
      "RangeIndex: 107406 entries, 0 to 107405\n",
      "Data columns (total 16 columns):\n",
      " #   Column                                    Non-Null Count   Dtype  \n",
      "---  ------                                    --------------   -----  \n",
      " 0   Data_As_Of                                107406 non-null  object \n",
      " 1   Start_Date                                107406 non-null  object \n",
      " 2   End_Date                                  107406 non-null  object \n",
      " 3   Group                                     107406 non-null  object \n",
      " 4   Year                                      107406 non-null  float64\n",
      " 5   Month                                     107406 non-null  float64\n",
      " 6   State                                     107406 non-null  object \n",
      " 7   Sex                                       107406 non-null  object \n",
      " 8   Age_Group                                 107406 non-null  object \n",
      " 9   COVID-19_Deaths                           107406 non-null  float64\n",
      " 10  Total_Deaths                              107406 non-null  float64\n",
      " 11  Pneumonia_Deaths                          107406 non-null  float64\n",
      " 12  Pneumonia_and_COVID-19_Deaths             107406 non-null  float64\n",
      " 13  Influenza_Deaths                          107406 non-null  float64\n",
      " 14  Pneumonia,_Influenza,_or_COVID-19_Deaths  107406 non-null  float64\n",
      " 15  Footnote                                  73986 non-null   object \n",
      "dtypes: float64(8), object(8)\n",
      "memory usage: 13.1+ MB\n"
     ]
    }
   ],
   "source": [
    "df.info()"
   ]
  },
  {
   "cell_type": "code",
   "execution_count": 24,
   "metadata": {},
   "outputs": [],
   "source": [
    "df['Start_Date']= pd.to_datetime(df['Start_Date']) #converting into datetime datatype"
   ]
  },
  {
   "cell_type": "code",
   "execution_count": 25,
   "metadata": {},
   "outputs": [
    {
     "data": {
      "text/plain": [
       "0        2022-11-19\n",
       "1        2022-11-19\n",
       "2        2022-11-19\n",
       "3        2022-11-19\n",
       "4        2022-11-19\n",
       "            ...    \n",
       "107401   2022-11-19\n",
       "107402   2022-11-19\n",
       "107403   2022-11-19\n",
       "107404   2022-11-19\n",
       "107405   2022-11-19\n",
       "Name: End_Date, Length: 107406, dtype: datetime64[ns]"
      ]
     },
     "execution_count": 25,
     "metadata": {},
     "output_type": "execute_result"
    }
   ],
   "source": [
    "df['End_Date']= pd.to_datetime(df['End_Date'])\n",
    "df['End_Date']"
   ]
  },
  {
   "cell_type": "code",
   "execution_count": 26,
   "metadata": {},
   "outputs": [],
   "source": [
    "df['Data_As_Of']= pd.to_datetime(df['Data_As_Of'])"
   ]
  },
  {
   "cell_type": "code",
   "execution_count": 28,
   "metadata": {},
   "outputs": [],
   "source": [
    "df.to_csv(r'AITFINAL', index=False)"
   ]
  },
  {
   "cell_type": "code",
   "execution_count": 29,
   "metadata": {},
   "outputs": [],
   "source": [
    "df1=pd.pivot_table(df, index='Month', values='Total_Deaths', aggfunc='count').reset_index()"
   ]
  },
  {
   "cell_type": "code",
   "execution_count": 30,
   "metadata": {},
   "outputs": [],
   "source": [
    "del df['Footnote']"
   ]
  },
  {
   "cell_type": "code",
   "execution_count": 32,
   "metadata": {},
   "outputs": [
    {
     "data": {
      "text/html": [
       "<div>\n",
       "<style scoped>\n",
       "    .dataframe tbody tr th:only-of-type {\n",
       "        vertical-align: middle;\n",
       "    }\n",
       "\n",
       "    .dataframe tbody tr th {\n",
       "        vertical-align: top;\n",
       "    }\n",
       "\n",
       "    .dataframe thead th {\n",
       "        text-align: right;\n",
       "    }\n",
       "</style>\n",
       "<table border=\"1\" class=\"dataframe\">\n",
       "  <thead>\n",
       "    <tr style=\"text-align: right;\">\n",
       "      <th></th>\n",
       "      <th>Data_As_Of</th>\n",
       "      <th>Start_Date</th>\n",
       "      <th>End_Date</th>\n",
       "      <th>Group</th>\n",
       "      <th>Year</th>\n",
       "      <th>Month</th>\n",
       "      <th>State</th>\n",
       "      <th>Sex</th>\n",
       "      <th>Age_Group</th>\n",
       "      <th>COVID-19_Deaths</th>\n",
       "      <th>Total_Deaths</th>\n",
       "      <th>Pneumonia_Deaths</th>\n",
       "      <th>Pneumonia_and_COVID-19_Deaths</th>\n",
       "      <th>Influenza_Deaths</th>\n",
       "      <th>Pneumonia,_Influenza,_or_COVID-19_Deaths</th>\n",
       "    </tr>\n",
       "  </thead>\n",
       "  <tbody>\n",
       "    <tr>\n",
       "      <th>0</th>\n",
       "      <td>2022-11-23</td>\n",
       "      <td>2020-01-01</td>\n",
       "      <td>2022-11-19</td>\n",
       "      <td>By Total</td>\n",
       "      <td>2020.0</td>\n",
       "      <td>6.342857</td>\n",
       "      <td>United States</td>\n",
       "      <td>All Sexes</td>\n",
       "      <td>All Ages</td>\n",
       "      <td>1.072281e+06</td>\n",
       "      <td>9646378.0</td>\n",
       "      <td>995217.000000</td>\n",
       "      <td>542213.000000</td>\n",
       "      <td>12920.000000</td>\n",
       "      <td>1.536351e+06</td>\n",
       "    </tr>\n",
       "    <tr>\n",
       "      <th>1</th>\n",
       "      <td>2022-11-23</td>\n",
       "      <td>2020-01-01</td>\n",
       "      <td>2022-11-19</td>\n",
       "      <td>By Total</td>\n",
       "      <td>2020.0</td>\n",
       "      <td>6.342857</td>\n",
       "      <td>United States</td>\n",
       "      <td>All Sexes</td>\n",
       "      <td>Under 1 year</td>\n",
       "      <td>3.850000e+02</td>\n",
       "      <td>56066.0</td>\n",
       "      <td>751.000000</td>\n",
       "      <td>64.000000</td>\n",
       "      <td>44.000000</td>\n",
       "      <td>1.114000e+03</td>\n",
       "    </tr>\n",
       "    <tr>\n",
       "      <th>2</th>\n",
       "      <td>2022-11-23</td>\n",
       "      <td>2020-01-01</td>\n",
       "      <td>2022-11-19</td>\n",
       "      <td>By Total</td>\n",
       "      <td>2020.0</td>\n",
       "      <td>6.342857</td>\n",
       "      <td>United States</td>\n",
       "      <td>All Sexes</td>\n",
       "      <td>0-17 years</td>\n",
       "      <td>1.368000e+03</td>\n",
       "      <td>99685.0</td>\n",
       "      <td>2079.000000</td>\n",
       "      <td>349.000000</td>\n",
       "      <td>279.000000</td>\n",
       "      <td>3.363000e+03</td>\n",
       "    </tr>\n",
       "    <tr>\n",
       "      <th>3</th>\n",
       "      <td>2022-11-23</td>\n",
       "      <td>2020-01-01</td>\n",
       "      <td>2022-11-19</td>\n",
       "      <td>By Total</td>\n",
       "      <td>2020.0</td>\n",
       "      <td>6.342857</td>\n",
       "      <td>United States</td>\n",
       "      <td>All Sexes</td>\n",
       "      <td>1-4 years</td>\n",
       "      <td>2.080000e+02</td>\n",
       "      <td>10709.0</td>\n",
       "      <td>445.000000</td>\n",
       "      <td>48.000000</td>\n",
       "      <td>91.000000</td>\n",
       "      <td>6.920000e+02</td>\n",
       "    </tr>\n",
       "    <tr>\n",
       "      <th>4</th>\n",
       "      <td>2022-11-23</td>\n",
       "      <td>2020-01-01</td>\n",
       "      <td>2022-11-19</td>\n",
       "      <td>By Total</td>\n",
       "      <td>2020.0</td>\n",
       "      <td>6.342857</td>\n",
       "      <td>United States</td>\n",
       "      <td>All Sexes</td>\n",
       "      <td>5-14 years</td>\n",
       "      <td>4.270000e+02</td>\n",
       "      <td>16742.0</td>\n",
       "      <td>580.000000</td>\n",
       "      <td>123.000000</td>\n",
       "      <td>116.000000</td>\n",
       "      <td>9.930000e+02</td>\n",
       "    </tr>\n",
       "    <tr>\n",
       "      <th>...</th>\n",
       "      <td>...</td>\n",
       "      <td>...</td>\n",
       "      <td>...</td>\n",
       "      <td>...</td>\n",
       "      <td>...</td>\n",
       "      <td>...</td>\n",
       "      <td>...</td>\n",
       "      <td>...</td>\n",
       "      <td>...</td>\n",
       "      <td>...</td>\n",
       "      <td>...</td>\n",
       "      <td>...</td>\n",
       "      <td>...</td>\n",
       "      <td>...</td>\n",
       "      <td>...</td>\n",
       "    </tr>\n",
       "    <tr>\n",
       "      <th>107401</th>\n",
       "      <td>2022-11-23</td>\n",
       "      <td>2022-11-01</td>\n",
       "      <td>2022-11-19</td>\n",
       "      <td>By Month</td>\n",
       "      <td>2022.0</td>\n",
       "      <td>11.000000</td>\n",
       "      <td>Puerto Rico</td>\n",
       "      <td>Female</td>\n",
       "      <td>50-64 years</td>\n",
       "      <td>3.706247e+02</td>\n",
       "      <td>54.0</td>\n",
       "      <td>363.264847</td>\n",
       "      <td>185.773724</td>\n",
       "      <td>0.000000</td>\n",
       "      <td>5.548433e+02</td>\n",
       "    </tr>\n",
       "    <tr>\n",
       "      <th>107402</th>\n",
       "      <td>2022-11-23</td>\n",
       "      <td>2022-11-01</td>\n",
       "      <td>2022-11-19</td>\n",
       "      <td>By Month</td>\n",
       "      <td>2022.0</td>\n",
       "      <td>11.000000</td>\n",
       "      <td>Puerto Rico</td>\n",
       "      <td>Female</td>\n",
       "      <td>55-64 years</td>\n",
       "      <td>0.000000e+00</td>\n",
       "      <td>46.0</td>\n",
       "      <td>363.264847</td>\n",
       "      <td>0.000000</td>\n",
       "      <td>0.000000</td>\n",
       "      <td>5.548433e+02</td>\n",
       "    </tr>\n",
       "    <tr>\n",
       "      <th>107403</th>\n",
       "      <td>2022-11-23</td>\n",
       "      <td>2022-11-01</td>\n",
       "      <td>2022-11-19</td>\n",
       "      <td>By Month</td>\n",
       "      <td>2022.0</td>\n",
       "      <td>11.000000</td>\n",
       "      <td>Puerto Rico</td>\n",
       "      <td>Female</td>\n",
       "      <td>65-74 years</td>\n",
       "      <td>3.706247e+02</td>\n",
       "      <td>106.0</td>\n",
       "      <td>13.000000</td>\n",
       "      <td>185.773724</td>\n",
       "      <td>0.000000</td>\n",
       "      <td>1.400000e+01</td>\n",
       "    </tr>\n",
       "    <tr>\n",
       "      <th>107404</th>\n",
       "      <td>2022-11-23</td>\n",
       "      <td>2022-11-01</td>\n",
       "      <td>2022-11-19</td>\n",
       "      <td>By Month</td>\n",
       "      <td>2022.0</td>\n",
       "      <td>11.000000</td>\n",
       "      <td>Puerto Rico</td>\n",
       "      <td>Female</td>\n",
       "      <td>75-84 years</td>\n",
       "      <td>1.000000e+01</td>\n",
       "      <td>151.0</td>\n",
       "      <td>26.000000</td>\n",
       "      <td>185.773724</td>\n",
       "      <td>3.628141</td>\n",
       "      <td>3.000000e+01</td>\n",
       "    </tr>\n",
       "    <tr>\n",
       "      <th>107405</th>\n",
       "      <td>2022-11-23</td>\n",
       "      <td>2022-11-01</td>\n",
       "      <td>2022-11-19</td>\n",
       "      <td>By Month</td>\n",
       "      <td>2022.0</td>\n",
       "      <td>11.000000</td>\n",
       "      <td>Puerto Rico</td>\n",
       "      <td>Female</td>\n",
       "      <td>85 years and over</td>\n",
       "      <td>1.500000e+01</td>\n",
       "      <td>186.0</td>\n",
       "      <td>34.000000</td>\n",
       "      <td>185.773724</td>\n",
       "      <td>3.628141</td>\n",
       "      <td>4.000000e+01</td>\n",
       "    </tr>\n",
       "  </tbody>\n",
       "</table>\n",
       "<p>107406 rows × 15 columns</p>\n",
       "</div>"
      ],
      "text/plain": [
       "       Data_As_Of Start_Date   End_Date     Group    Year      Month  \\\n",
       "0      2022-11-23 2020-01-01 2022-11-19  By Total  2020.0   6.342857   \n",
       "1      2022-11-23 2020-01-01 2022-11-19  By Total  2020.0   6.342857   \n",
       "2      2022-11-23 2020-01-01 2022-11-19  By Total  2020.0   6.342857   \n",
       "3      2022-11-23 2020-01-01 2022-11-19  By Total  2020.0   6.342857   \n",
       "4      2022-11-23 2020-01-01 2022-11-19  By Total  2020.0   6.342857   \n",
       "...           ...        ...        ...       ...     ...        ...   \n",
       "107401 2022-11-23 2022-11-01 2022-11-19  By Month  2022.0  11.000000   \n",
       "107402 2022-11-23 2022-11-01 2022-11-19  By Month  2022.0  11.000000   \n",
       "107403 2022-11-23 2022-11-01 2022-11-19  By Month  2022.0  11.000000   \n",
       "107404 2022-11-23 2022-11-01 2022-11-19  By Month  2022.0  11.000000   \n",
       "107405 2022-11-23 2022-11-01 2022-11-19  By Month  2022.0  11.000000   \n",
       "\n",
       "                State        Sex          Age_Group  COVID-19_Deaths  \\\n",
       "0       United States  All Sexes           All Ages     1.072281e+06   \n",
       "1       United States  All Sexes       Under 1 year     3.850000e+02   \n",
       "2       United States  All Sexes         0-17 years     1.368000e+03   \n",
       "3       United States  All Sexes          1-4 years     2.080000e+02   \n",
       "4       United States  All Sexes         5-14 years     4.270000e+02   \n",
       "...               ...        ...                ...              ...   \n",
       "107401    Puerto Rico     Female        50-64 years     3.706247e+02   \n",
       "107402    Puerto Rico     Female        55-64 years     0.000000e+00   \n",
       "107403    Puerto Rico     Female        65-74 years     3.706247e+02   \n",
       "107404    Puerto Rico     Female        75-84 years     1.000000e+01   \n",
       "107405    Puerto Rico     Female  85 years and over     1.500000e+01   \n",
       "\n",
       "        Total_Deaths  Pneumonia_Deaths  Pneumonia_and_COVID-19_Deaths  \\\n",
       "0          9646378.0     995217.000000                  542213.000000   \n",
       "1            56066.0        751.000000                      64.000000   \n",
       "2            99685.0       2079.000000                     349.000000   \n",
       "3            10709.0        445.000000                      48.000000   \n",
       "4            16742.0        580.000000                     123.000000   \n",
       "...              ...               ...                            ...   \n",
       "107401          54.0        363.264847                     185.773724   \n",
       "107402          46.0        363.264847                       0.000000   \n",
       "107403         106.0         13.000000                     185.773724   \n",
       "107404         151.0         26.000000                     185.773724   \n",
       "107405         186.0         34.000000                     185.773724   \n",
       "\n",
       "        Influenza_Deaths  Pneumonia,_Influenza,_or_COVID-19_Deaths  \n",
       "0           12920.000000                              1.536351e+06  \n",
       "1              44.000000                              1.114000e+03  \n",
       "2             279.000000                              3.363000e+03  \n",
       "3              91.000000                              6.920000e+02  \n",
       "4             116.000000                              9.930000e+02  \n",
       "...                  ...                                       ...  \n",
       "107401          0.000000                              5.548433e+02  \n",
       "107402          0.000000                              5.548433e+02  \n",
       "107403          0.000000                              1.400000e+01  \n",
       "107404          3.628141                              3.000000e+01  \n",
       "107405          3.628141                              4.000000e+01  \n",
       "\n",
       "[107406 rows x 15 columns]"
      ]
     },
     "execution_count": 32,
     "metadata": {},
     "output_type": "execute_result"
    }
   ],
   "source": [
    "df"
   ]
  },
  {
   "cell_type": "code",
   "execution_count": 33,
   "metadata": {},
   "outputs": [
    {
     "data": {
      "text/plain": [
       "0          6.342857\n",
       "1          6.342857\n",
       "2          6.342857\n",
       "3          6.342857\n",
       "4          6.342857\n",
       "            ...    \n",
       "107401    11.000000\n",
       "107402    11.000000\n",
       "107403    11.000000\n",
       "107404    11.000000\n",
       "107405    11.000000\n",
       "Name: Month, Length: 107406, dtype: float64"
      ]
     },
     "execution_count": 33,
     "metadata": {},
     "output_type": "execute_result"
    }
   ],
   "source": [
    "df['Month']"
   ]
  },
  {
   "cell_type": "code",
   "execution_count": 34,
   "metadata": {},
   "outputs": [],
   "source": [
    "df['Month'] = df['Month'].replace([6.3428571428571425],[6])"
   ]
  },
  {
   "cell_type": "code",
   "execution_count": 35,
   "metadata": {},
   "outputs": [
    {
     "data": {
      "text/plain": [
       "6.0"
      ]
     },
     "execution_count": 35,
     "metadata": {},
     "output_type": "execute_result"
    }
   ],
   "source": [
    "df['Month'][1]"
   ]
  },
  {
   "cell_type": "code",
   "execution_count": 36,
   "metadata": {},
   "outputs": [
    {
     "data": {
      "text/plain": [
       "0          6.0\n",
       "1          6.0\n",
       "2          6.0\n",
       "3          6.0\n",
       "4          6.0\n",
       "          ... \n",
       "107401    11.0\n",
       "107402    11.0\n",
       "107403    11.0\n",
       "107404    11.0\n",
       "107405    11.0\n",
       "Name: Month, Length: 107406, dtype: float64"
      ]
     },
     "execution_count": 36,
     "metadata": {},
     "output_type": "execute_result"
    }
   ],
   "source": [
    "df['Month']"
   ]
  },
  {
   "cell_type": "code",
   "execution_count": 37,
   "metadata": {},
   "outputs": [],
   "source": [
    "df1=pd.pivot_table(df, index='Month', values='Total_Deaths', aggfunc='sum').reset_index()"
   ]
  },
  {
   "cell_type": "code",
   "execution_count": 38,
   "metadata": {},
   "outputs": [],
   "source": [
    "df1=df1.round(1)"
   ]
  },
  {
   "cell_type": "code",
   "execution_count": 39,
   "metadata": {},
   "outputs": [
    {
     "data": {
      "text/html": [
       "<div>\n",
       "<style scoped>\n",
       "    .dataframe tbody tr th:only-of-type {\n",
       "        vertical-align: middle;\n",
       "    }\n",
       "\n",
       "    .dataframe tbody tr th {\n",
       "        vertical-align: top;\n",
       "    }\n",
       "\n",
       "    .dataframe thead th {\n",
       "        text-align: right;\n",
       "    }\n",
       "</style>\n",
       "<table border=\"1\" class=\"dataframe\">\n",
       "  <thead>\n",
       "    <tr style=\"text-align: right;\">\n",
       "      <th></th>\n",
       "      <th>Month</th>\n",
       "      <th>Total_Deaths</th>\n",
       "    </tr>\n",
       "  </thead>\n",
       "  <tbody>\n",
       "    <tr>\n",
       "      <th>0</th>\n",
       "      <td>1.0</td>\n",
       "      <td>12615557.9</td>\n",
       "    </tr>\n",
       "    <tr>\n",
       "      <th>1</th>\n",
       "      <td>2.0</td>\n",
       "      <td>11238432.2</td>\n",
       "    </tr>\n",
       "    <tr>\n",
       "      <th>2</th>\n",
       "      <td>3.0</td>\n",
       "      <td>11109061.2</td>\n",
       "    </tr>\n",
       "    <tr>\n",
       "      <th>3</th>\n",
       "      <td>4.0</td>\n",
       "      <td>11266888.3</td>\n",
       "    </tr>\n",
       "    <tr>\n",
       "      <th>4</th>\n",
       "      <td>5.0</td>\n",
       "      <td>10922049.8</td>\n",
       "    </tr>\n",
       "    <tr>\n",
       "      <th>5</th>\n",
       "      <td>6.0</td>\n",
       "      <td>186633693.0</td>\n",
       "    </tr>\n",
       "    <tr>\n",
       "      <th>6</th>\n",
       "      <td>7.0</td>\n",
       "      <td>10781028.3</td>\n",
       "    </tr>\n",
       "    <tr>\n",
       "      <th>7</th>\n",
       "      <td>8.0</td>\n",
       "      <td>11183486.6</td>\n",
       "    </tr>\n",
       "    <tr>\n",
       "      <th>8</th>\n",
       "      <td>9.0</td>\n",
       "      <td>11077604.9</td>\n",
       "    </tr>\n",
       "    <tr>\n",
       "      <th>9</th>\n",
       "      <td>10.0</td>\n",
       "      <td>11192239.9</td>\n",
       "    </tr>\n",
       "    <tr>\n",
       "      <th>10</th>\n",
       "      <td>11.0</td>\n",
       "      <td>10959499.7</td>\n",
       "    </tr>\n",
       "    <tr>\n",
       "      <th>11</th>\n",
       "      <td>12.0</td>\n",
       "      <td>8612807.3</td>\n",
       "    </tr>\n",
       "  </tbody>\n",
       "</table>\n",
       "</div>"
      ],
      "text/plain": [
       "    Month  Total_Deaths\n",
       "0     1.0    12615557.9\n",
       "1     2.0    11238432.2\n",
       "2     3.0    11109061.2\n",
       "3     4.0    11266888.3\n",
       "4     5.0    10922049.8\n",
       "5     6.0   186633693.0\n",
       "6     7.0    10781028.3\n",
       "7     8.0    11183486.6\n",
       "8     9.0    11077604.9\n",
       "9    10.0    11192239.9\n",
       "10   11.0    10959499.7\n",
       "11   12.0     8612807.3"
      ]
     },
     "execution_count": 39,
     "metadata": {},
     "output_type": "execute_result"
    }
   ],
   "source": [
    "df1"
   ]
  },
  {
   "cell_type": "code",
   "execution_count": 40,
   "metadata": {},
   "outputs": [
    {
     "data": {
      "text/plain": [
       "[Text(0.5, 0, 'Month'),\n",
       " Text(0, 0.5, 'Total Deaths'),\n",
       " Text(0.5, 1.0, 'Month vs Total Deaths ')]"
      ]
     },
     "execution_count": 40,
     "metadata": {},
     "output_type": "execute_result"
    },
    {
     "data": {
      "image/png": "[encoded data removed]",
      "text/plain": [
       "<Figure size 432x288 with 1 Axes>"
      ]
     },
     "metadata": {
      "needs_background": "light"
     },
     "output_type": "display_data"
    }
   ],
   "source": [
    "ax=sns.barplot(x = 'Month',\n",
    "            y = 'Total_Deaths',\n",
    "            data = df1)\n",
    "sns.set(rc={'figure.figsize':(25,8.27)})\n",
    "ax.set(xlabel='Month', ylabel='Total Deaths',title=\"Month vs Total Deaths \")"
   ]
  },
  {
   "cell_type": "code",
   "execution_count": 41,
   "metadata": {},
   "outputs": [],
   "source": [
    "df_covid=pd.pivot_table(df, index='Month', values='COVID-19_Deaths', aggfunc='sum').reset_index()"
   ]
  },
  {
   "cell_type": "code",
   "execution_count": 42,
   "metadata": {},
   "outputs": [
    {
     "data": {
      "text/html": [
       "<div>\n",
       "<style scoped>\n",
       "    .dataframe tbody tr th:only-of-type {\n",
       "        vertical-align: middle;\n",
       "    }\n",
       "\n",
       "    .dataframe tbody tr th {\n",
       "        vertical-align: top;\n",
       "    }\n",
       "\n",
       "    .dataframe thead th {\n",
       "        text-align: right;\n",
       "    }\n",
       "</style>\n",
       "<table border=\"1\" class=\"dataframe\">\n",
       "  <thead>\n",
       "    <tr style=\"text-align: right;\">\n",
       "      <th></th>\n",
       "      <th>Month</th>\n",
       "      <th>COVID-19_Deaths</th>\n",
       "    </tr>\n",
       "  </thead>\n",
       "  <tbody>\n",
       "    <tr>\n",
       "      <th>0</th>\n",
       "      <td>1.0</td>\n",
       "      <td>2.220381e+06</td>\n",
       "    </tr>\n",
       "    <tr>\n",
       "      <th>1</th>\n",
       "      <td>2.0</td>\n",
       "      <td>1.491249e+06</td>\n",
       "    </tr>\n",
       "    <tr>\n",
       "      <th>2</th>\n",
       "      <td>3.0</td>\n",
       "      <td>1.348103e+06</td>\n",
       "    </tr>\n",
       "    <tr>\n",
       "      <th>3</th>\n",
       "      <td>4.0</td>\n",
       "      <td>1.739422e+06</td>\n",
       "    </tr>\n",
       "    <tr>\n",
       "      <th>4</th>\n",
       "      <td>5.0</td>\n",
       "      <td>1.554001e+06</td>\n",
       "    </tr>\n",
       "    <tr>\n",
       "      <th>5</th>\n",
       "      <td>6.0</td>\n",
       "      <td>2.150209e+07</td>\n",
       "    </tr>\n",
       "    <tr>\n",
       "      <th>6</th>\n",
       "      <td>7.0</td>\n",
       "      <td>1.495949e+06</td>\n",
       "    </tr>\n",
       "    <tr>\n",
       "      <th>7</th>\n",
       "      <td>8.0</td>\n",
       "      <td>1.797986e+06</td>\n",
       "    </tr>\n",
       "    <tr>\n",
       "      <th>8</th>\n",
       "      <td>9.0</td>\n",
       "      <td>1.743144e+06</td>\n",
       "    </tr>\n",
       "    <tr>\n",
       "      <th>9</th>\n",
       "      <td>10.0</td>\n",
       "      <td>1.519610e+06</td>\n",
       "    </tr>\n",
       "    <tr>\n",
       "      <th>10</th>\n",
       "      <td>11.0</td>\n",
       "      <td>1.617032e+06</td>\n",
       "    </tr>\n",
       "    <tr>\n",
       "      <th>11</th>\n",
       "      <td>12.0</td>\n",
       "      <td>1.778344e+06</td>\n",
       "    </tr>\n",
       "  </tbody>\n",
       "</table>\n",
       "</div>"
      ],
      "text/plain": [
       "    Month  COVID-19_Deaths\n",
       "0     1.0     2.220381e+06\n",
       "1     2.0     1.491249e+06\n",
       "2     3.0     1.348103e+06\n",
       "3     4.0     1.739422e+06\n",
       "4     5.0     1.554001e+06\n",
       "5     6.0     2.150209e+07\n",
       "6     7.0     1.495949e+06\n",
       "7     8.0     1.797986e+06\n",
       "8     9.0     1.743144e+06\n",
       "9    10.0     1.519610e+06\n",
       "10   11.0     1.617032e+06\n",
       "11   12.0     1.778344e+06"
      ]
     },
     "execution_count": 42,
     "metadata": {},
     "output_type": "execute_result"
    }
   ],
   "source": [
    "df_covid"
   ]
  },
  {
   "cell_type": "code",
   "execution_count": 43,
   "metadata": {},
   "outputs": [
    {
     "data": {
      "text/plain": [
       "Text(0.5, 1.0, 'Covid Deaths Per Month')"
      ]
     },
     "execution_count": 43,
     "metadata": {},
     "output_type": "execute_result"
    },
    {
     "data": {
      "image/png": "[encoded data removed]",
      "text/plain": [
       "<Figure size 1080x360 with 1 Axes>"
      ]
     },
     "metadata": {},
     "output_type": "display_data"
    }
   ],
   "source": [
    "f = plt.figure(figsize=(15,5))\n",
    "ax=sns.barplot(x = 'Month',\n",
    "            y = 'COVID-19_Deaths',\n",
    "            data = df_covid)\n",
    "# sns.set(rc={'figure.figsize':(40,20)})\n",
    "plt.xlabel(\"Month\",fontsize=15)\n",
    "plt.ylabel(\"Total Deaths\", fontsize=15)\n",
    "plt.title(\"Covid Deaths Per Month\",fontsize=15)\n",
    "# ax.set(xlabel='Month', ylabel='Total Deaths',title=\"Month vs COVID-19 Deaths \")"
   ]
  },
  {
   "cell_type": "code",
   "execution_count": 44,
   "metadata": {},
   "outputs": [],
   "source": [
    "df_influenza=pd.pivot_table(df, index='Month', values='Influenza_Deaths', aggfunc='sum').reset_index()"
   ]
  },
  {
   "cell_type": "code",
   "execution_count": 45,
   "metadata": {},
   "outputs": [
    {
     "data": {
      "text/html": [
       "<div>\n",
       "<style scoped>\n",
       "    .dataframe tbody tr th:only-of-type {\n",
       "        vertical-align: middle;\n",
       "    }\n",
       "\n",
       "    .dataframe tbody tr th {\n",
       "        vertical-align: top;\n",
       "    }\n",
       "\n",
       "    .dataframe thead th {\n",
       "        text-align: right;\n",
       "    }\n",
       "</style>\n",
       "<table border=\"1\" class=\"dataframe\">\n",
       "  <thead>\n",
       "    <tr style=\"text-align: right;\">\n",
       "      <th></th>\n",
       "      <th>Month</th>\n",
       "      <th>Influenza_Deaths</th>\n",
       "    </tr>\n",
       "  </thead>\n",
       "  <tbody>\n",
       "    <tr>\n",
       "      <th>0</th>\n",
       "      <td>1.0</td>\n",
       "      <td>30167.834171</td>\n",
       "    </tr>\n",
       "    <tr>\n",
       "      <th>1</th>\n",
       "      <td>2.0</td>\n",
       "      <td>28522.623116</td>\n",
       "    </tr>\n",
       "    <tr>\n",
       "      <th>2</th>\n",
       "      <td>3.0</td>\n",
       "      <td>28329.070352</td>\n",
       "    </tr>\n",
       "    <tr>\n",
       "      <th>3</th>\n",
       "      <td>4.0</td>\n",
       "      <td>18085.783920</td>\n",
       "    </tr>\n",
       "    <tr>\n",
       "      <th>4</th>\n",
       "      <td>5.0</td>\n",
       "      <td>6921.773869</td>\n",
       "    </tr>\n",
       "    <tr>\n",
       "      <th>5</th>\n",
       "      <td>6.0</td>\n",
       "      <td>251144.100503</td>\n",
       "    </tr>\n",
       "    <tr>\n",
       "      <th>6</th>\n",
       "      <td>7.0</td>\n",
       "      <td>3024.321608</td>\n",
       "    </tr>\n",
       "    <tr>\n",
       "      <th>7</th>\n",
       "      <td>8.0</td>\n",
       "      <td>2769.939698</td>\n",
       "    </tr>\n",
       "    <tr>\n",
       "      <th>8</th>\n",
       "      <td>9.0</td>\n",
       "      <td>3295.035176</td>\n",
       "    </tr>\n",
       "    <tr>\n",
       "      <th>9</th>\n",
       "      <td>10.0</td>\n",
       "      <td>5097.623116</td>\n",
       "    </tr>\n",
       "    <tr>\n",
       "      <th>10</th>\n",
       "      <td>11.0</td>\n",
       "      <td>6089.587940</td>\n",
       "    </tr>\n",
       "    <tr>\n",
       "      <th>11</th>\n",
       "      <td>12.0</td>\n",
       "      <td>6236.386935</td>\n",
       "    </tr>\n",
       "  </tbody>\n",
       "</table>\n",
       "</div>"
      ],
      "text/plain": [
       "    Month  Influenza_Deaths\n",
       "0     1.0      30167.834171\n",
       "1     2.0      28522.623116\n",
       "2     3.0      28329.070352\n",
       "3     4.0      18085.783920\n",
       "4     5.0       6921.773869\n",
       "5     6.0     251144.100503\n",
       "6     7.0       3024.321608\n",
       "7     8.0       2769.939698\n",
       "8     9.0       3295.035176\n",
       "9    10.0       5097.623116\n",
       "10   11.0       6089.587940\n",
       "11   12.0       6236.386935"
      ]
     },
     "execution_count": 45,
     "metadata": {},
     "output_type": "execute_result"
    }
   ],
   "source": [
    "df_influenza"
   ]
  },
  {
   "cell_type": "code",
   "execution_count": 46,
   "metadata": {},
   "outputs": [
    {
     "data": {
      "image/png": "[encoded data removed]",
      "text/plain": [
       "<Figure size 1080x360 with 1 Axes>"
      ]
     },
     "metadata": {},
     "output_type": "display_data"
    }
   ],
   "source": [
    "f = plt.figure(figsize=(15,5))\n",
    "ax=sns.barplot(x = 'Month',\n",
    "            y = 'Influenza_Deaths',\n",
    "            data = df_influenza)\n",
    "plt.xlabel(\"Month\",fontsize=15)\n",
    "plt.ylabel(\"influenza Deaths\", fontsize=15)\n",
    "plt.title(\"Influenza Deaths Per Month\",fontsize=15)\n",
    "sns.set(rc={'figure.figsize':(25,8.27)})\n",
    "#ax.set(xlabel='Month', ylabel='Total Deaths',title=\"Month vs Influenza \")"
   ]
  },
  {
   "cell_type": "code",
   "execution_count": 47,
   "metadata": {},
   "outputs": [],
   "source": [
    "df_pneumonia=pd.pivot_table(df, index='Month', values='Pneumonia_Deaths', aggfunc='sum').reset_index()"
   ]
  },
  {
   "cell_type": "code",
   "execution_count": 48,
   "metadata": {},
   "outputs": [
    {
     "data": {
      "text/plain": [
       "Text(0.5, 1.0, 'Pneumonia Deaths Per Month')"
      ]
     },
     "execution_count": 48,
     "metadata": {},
     "output_type": "execute_result"
    },
    {
     "data": {
      "image/png": "[encoded data removed]",
      "text/plain": [
       "<Figure size 1080x360 with 1 Axes>"
      ]
     },
     "metadata": {},
     "output_type": "display_data"
    }
   ],
   "source": [
    "f = plt.figure(figsize=(15,5))\n",
    "ax=sns.barplot(x = 'Month',\n",
    "            y = 'Pneumonia_Deaths',\n",
    "            data = df_pneumonia)\n",
    "sns.set(rc={'figure.figsize':(25,8.27)})\n",
    "plt.xlabel(\"Month\",fontsize=15)\n",
    "plt.ylabel(\"Pneumonia Deaths\", fontsize=15)\n",
    "plt.title(\"Pneumonia Deaths Per Month\",fontsize=15)\n"
   ]
  },
  {
   "cell_type": "code",
   "execution_count": null,
   "metadata": {},
   "outputs": [],
   "source": []
  },
  {
   "cell_type": "code",
   "execution_count": 49,
   "metadata": {},
   "outputs": [],
   "source": [
    "df2=pd.pivot_table(df, index='Age_Group', values='Total_Deaths', aggfunc='sum').reset_index()"
   ]
  },
  {
   "cell_type": "code",
   "execution_count": 50,
   "metadata": {},
   "outputs": [
    {
     "data": {
      "text/html": [
       "<div>\n",
       "<style scoped>\n",
       "    .dataframe tbody tr th:only-of-type {\n",
       "        vertical-align: middle;\n",
       "    }\n",
       "\n",
       "    .dataframe tbody tr th {\n",
       "        vertical-align: top;\n",
       "    }\n",
       "\n",
       "    .dataframe thead th {\n",
       "        text-align: right;\n",
       "    }\n",
       "</style>\n",
       "<table border=\"1\" class=\"dataframe\">\n",
       "  <thead>\n",
       "    <tr style=\"text-align: right;\">\n",
       "      <th></th>\n",
       "      <th>Age_Group</th>\n",
       "      <th>Total_Deaths</th>\n",
       "    </tr>\n",
       "  </thead>\n",
       "  <tbody>\n",
       "    <tr>\n",
       "      <th>0</th>\n",
       "      <td>0-17 years</td>\n",
       "      <td>5.202383e+06</td>\n",
       "    </tr>\n",
       "    <tr>\n",
       "      <th>1</th>\n",
       "      <td>1-4 years</td>\n",
       "      <td>1.129053e+07</td>\n",
       "    </tr>\n",
       "    <tr>\n",
       "      <th>2</th>\n",
       "      <td>15-24 years</td>\n",
       "      <td>5.498945e+06</td>\n",
       "    </tr>\n",
       "    <tr>\n",
       "      <th>3</th>\n",
       "      <td>18-29 years</td>\n",
       "      <td>4.708710e+06</td>\n",
       "    </tr>\n",
       "    <tr>\n",
       "      <th>4</th>\n",
       "      <td>25-34 years</td>\n",
       "      <td>4.542205e+06</td>\n",
       "    </tr>\n",
       "    <tr>\n",
       "      <th>5</th>\n",
       "      <td>30-39 years</td>\n",
       "      <td>4.577411e+06</td>\n",
       "    </tr>\n",
       "    <tr>\n",
       "      <th>6</th>\n",
       "      <td>35-44 years</td>\n",
       "      <td>4.877437e+06</td>\n",
       "    </tr>\n",
       "    <tr>\n",
       "      <th>7</th>\n",
       "      <td>40-49 years</td>\n",
       "      <td>5.471989e+06</td>\n",
       "    </tr>\n",
       "    <tr>\n",
       "      <th>8</th>\n",
       "      <td>45-54 years</td>\n",
       "      <td>7.075520e+06</td>\n",
       "    </tr>\n",
       "    <tr>\n",
       "      <th>9</th>\n",
       "      <td>5-14 years</td>\n",
       "      <td>1.112928e+07</td>\n",
       "    </tr>\n",
       "    <tr>\n",
       "      <th>10</th>\n",
       "      <td>50-64 years</td>\n",
       "      <td>1.948261e+07</td>\n",
       "    </tr>\n",
       "    <tr>\n",
       "      <th>11</th>\n",
       "      <td>55-64 years</td>\n",
       "      <td>1.540312e+07</td>\n",
       "    </tr>\n",
       "    <tr>\n",
       "      <th>12</th>\n",
       "      <td>65-74 years</td>\n",
       "      <td>2.376151e+07</td>\n",
       "    </tr>\n",
       "    <tr>\n",
       "      <th>13</th>\n",
       "      <td>75-84 years</td>\n",
       "      <td>2.842982e+07</td>\n",
       "    </tr>\n",
       "    <tr>\n",
       "      <th>14</th>\n",
       "      <td>85 years and over</td>\n",
       "      <td>3.317670e+07</td>\n",
       "    </tr>\n",
       "    <tr>\n",
       "      <th>15</th>\n",
       "      <td>All Ages</td>\n",
       "      <td>1.163301e+08</td>\n",
       "    </tr>\n",
       "    <tr>\n",
       "      <th>16</th>\n",
       "      <td>Under 1 year</td>\n",
       "      <td>6.634077e+06</td>\n",
       "    </tr>\n",
       "  </tbody>\n",
       "</table>\n",
       "</div>"
      ],
      "text/plain": [
       "            Age_Group  Total_Deaths\n",
       "0          0-17 years  5.202383e+06\n",
       "1           1-4 years  1.129053e+07\n",
       "2         15-24 years  5.498945e+06\n",
       "3         18-29 years  4.708710e+06\n",
       "4         25-34 years  4.542205e+06\n",
       "5         30-39 years  4.577411e+06\n",
       "6         35-44 years  4.877437e+06\n",
       "7         40-49 years  5.471989e+06\n",
       "8         45-54 years  7.075520e+06\n",
       "9          5-14 years  1.112928e+07\n",
       "10        50-64 years  1.948261e+07\n",
       "11        55-64 years  1.540312e+07\n",
       "12        65-74 years  2.376151e+07\n",
       "13        75-84 years  2.842982e+07\n",
       "14  85 years and over  3.317670e+07\n",
       "15           All Ages  1.163301e+08\n",
       "16       Under 1 year  6.634077e+06"
      ]
     },
     "execution_count": 50,
     "metadata": {},
     "output_type": "execute_result"
    }
   ],
   "source": [
    "df2"
   ]
  },
  {
   "cell_type": "code",
   "execution_count": 51,
   "metadata": {},
   "outputs": [
    {
     "data": {
      "text/plain": [
       "[Text(0.5, 0, 'Age Groups'),\n",
       " Text(0, 0.5, 'Total Deaths'),\n",
       " Text(0.5, 1.0, 'Age Groups vs Total Deaths ')]"
      ]
     },
     "execution_count": 51,
     "metadata": {},
     "output_type": "execute_result"
    },
    {
     "data": {
      "image/png": "[encoded data removed]",
      "text/plain": [
       "<Figure size 1800x595.44 with 1 Axes>"
      ]
     },
     "metadata": {},
     "output_type": "display_data"
    }
   ],
   "source": [
    "ax=sns.barplot(x = 'Age_Group',\n",
    "            y = 'Total_Deaths',\n",
    "            data = df2)\n",
    "sns.set(rc={'figure.figsize':(30,8.27)})\n",
    "ax.set(xlabel='Age Groups', ylabel='Total Deaths',title=\"Age Groups vs Total Deaths \")"
   ]
  },
  {
   "cell_type": "code",
   "execution_count": 52,
   "metadata": {},
   "outputs": [
    {
     "data": {
      "text/plain": [
       "array(['United States', 'Alabama', 'Alaska', 'Arizona', 'Arkansas',\n",
       "       'California', 'Colorado', 'Connecticut', 'Delaware',\n",
       "       'District of Columbia', 'Florida', 'Georgia', 'Hawaii', 'Idaho',\n",
       "       'Illinois', 'Indiana', 'Iowa', 'Kansas', 'Kentucky', 'Louisiana',\n",
       "       'Maine', 'Maryland', 'Massachusetts', 'Michigan', 'Minnesota',\n",
       "       'Mississippi', 'Missouri', 'Montana', 'Nebraska', 'Nevada',\n",
       "       'New Hampshire', 'New Jersey', 'New Mexico', 'New York',\n",
       "       'New York City', 'North Carolina', 'North Dakota', 'Ohio',\n",
       "       'Oklahoma', 'Oregon', 'Pennsylvania', 'Rhode Island',\n",
       "       'South Carolina', 'South Dakota', 'Tennessee', 'Texas', 'Utah',\n",
       "       'Vermont', 'Virginia', 'Washington', 'West Virginia', 'Wisconsin',\n",
       "       'Wyoming', 'Puerto Rico'], dtype=object)"
      ]
     },
     "execution_count": 52,
     "metadata": {},
     "output_type": "execute_result"
    }
   ],
   "source": [
    "df['State'].unique()"
   ]
  },
  {
   "cell_type": "code",
   "execution_count": 89,
   "metadata": {},
   "outputs": [],
   "source": [
    "df3=pd.pivot_table(df, index='Age_Group', values='COVID-19_Deaths', aggfunc='sum').reset_index()"
   ]
  },
  {
   "cell_type": "code",
   "execution_count": 90,
   "metadata": {},
   "outputs": [
    {
     "data": {
      "text/html": [
       "<div>\n",
       "<style scoped>\n",
       "    .dataframe tbody tr th:only-of-type {\n",
       "        vertical-align: middle;\n",
       "    }\n",
       "\n",
       "    .dataframe tbody tr th {\n",
       "        vertical-align: top;\n",
       "    }\n",
       "\n",
       "    .dataframe thead th {\n",
       "        text-align: right;\n",
       "    }\n",
       "</style>\n",
       "<table border=\"1\" class=\"dataframe\">\n",
       "  <thead>\n",
       "    <tr style=\"text-align: right;\">\n",
       "      <th></th>\n",
       "      <th>Age_Group</th>\n",
       "      <th>COVID-19_Deaths</th>\n",
       "    </tr>\n",
       "  </thead>\n",
       "  <tbody>\n",
       "    <tr>\n",
       "      <th>0</th>\n",
       "      <td>0-17 years</td>\n",
       "      <td>6.988779e+05</td>\n",
       "    </tr>\n",
       "    <tr>\n",
       "      <th>1</th>\n",
       "      <td>1-4 years</td>\n",
       "      <td>2.415978e+05</td>\n",
       "    </tr>\n",
       "    <tr>\n",
       "      <th>2</th>\n",
       "      <td>15-24 years</td>\n",
       "      <td>8.292137e+05</td>\n",
       "    </tr>\n",
       "    <tr>\n",
       "      <th>3</th>\n",
       "      <td>18-29 years</td>\n",
       "      <td>1.067509e+06</td>\n",
       "    </tr>\n",
       "    <tr>\n",
       "      <th>4</th>\n",
       "      <td>25-34 years</td>\n",
       "      <td>1.194121e+06</td>\n",
       "    </tr>\n",
       "    <tr>\n",
       "      <th>5</th>\n",
       "      <td>30-39 years</td>\n",
       "      <td>1.298350e+06</td>\n",
       "    </tr>\n",
       "    <tr>\n",
       "      <th>6</th>\n",
       "      <td>35-44 years</td>\n",
       "      <td>1.399041e+06</td>\n",
       "    </tr>\n",
       "    <tr>\n",
       "      <th>7</th>\n",
       "      <td>40-49 years</td>\n",
       "      <td>1.512323e+06</td>\n",
       "    </tr>\n",
       "    <tr>\n",
       "      <th>8</th>\n",
       "      <td>45-54 years</td>\n",
       "      <td>1.696216e+06</td>\n",
       "    </tr>\n",
       "    <tr>\n",
       "      <th>9</th>\n",
       "      <td>5-14 years</td>\n",
       "      <td>3.912710e+05</td>\n",
       "    </tr>\n",
       "    <tr>\n",
       "      <th>10</th>\n",
       "      <td>50-64 years</td>\n",
       "      <td>2.876733e+06</td>\n",
       "    </tr>\n",
       "    <tr>\n",
       "      <th>11</th>\n",
       "      <td>55-64 years</td>\n",
       "      <td>2.431694e+06</td>\n",
       "    </tr>\n",
       "    <tr>\n",
       "      <th>12</th>\n",
       "      <td>65-74 years</td>\n",
       "      <td>3.353221e+06</td>\n",
       "    </tr>\n",
       "    <tr>\n",
       "      <th>13</th>\n",
       "      <td>75-84 years</td>\n",
       "      <td>3.709284e+06</td>\n",
       "    </tr>\n",
       "    <tr>\n",
       "      <th>14</th>\n",
       "      <td>85 years and over</td>\n",
       "      <td>3.742558e+06</td>\n",
       "    </tr>\n",
       "    <tr>\n",
       "      <th>15</th>\n",
       "      <td>All Ages</td>\n",
       "      <td>1.300855e+07</td>\n",
       "    </tr>\n",
       "    <tr>\n",
       "      <th>16</th>\n",
       "      <td>Under 1 year</td>\n",
       "      <td>3.567586e+05</td>\n",
       "    </tr>\n",
       "  </tbody>\n",
       "</table>\n",
       "</div>"
      ],
      "text/plain": [
       "            Age_Group  COVID-19_Deaths\n",
       "0          0-17 years     6.988779e+05\n",
       "1           1-4 years     2.415978e+05\n",
       "2         15-24 years     8.292137e+05\n",
       "3         18-29 years     1.067509e+06\n",
       "4         25-34 years     1.194121e+06\n",
       "5         30-39 years     1.298350e+06\n",
       "6         35-44 years     1.399041e+06\n",
       "7         40-49 years     1.512323e+06\n",
       "8         45-54 years     1.696216e+06\n",
       "9          5-14 years     3.912710e+05\n",
       "10        50-64 years     2.876733e+06\n",
       "11        55-64 years     2.431694e+06\n",
       "12        65-74 years     3.353221e+06\n",
       "13        75-84 years     3.709284e+06\n",
       "14  85 years and over     3.742558e+06\n",
       "15           All Ages     1.300855e+07\n",
       "16       Under 1 year     3.567586e+05"
      ]
     },
     "execution_count": 90,
     "metadata": {},
     "output_type": "execute_result"
    }
   ],
   "source": [
    "df3"
   ]
  },
  {
   "cell_type": "code",
   "execution_count": 92,
   "metadata": {},
   "outputs": [
    {
     "data": {
      "text/plain": [
       "Text(0.5, 1.0, 'Covid-19 Deaths Per Age Groups')"
      ]
     },
     "execution_count": 92,
     "metadata": {},
     "output_type": "execute_result"
    },
    {
     "data": {
      "image/png": "[encoded data removed]",
      "text/plain": [
       "<Figure size 1080x504 with 1 Axes>"
      ]
     },
     "metadata": {},
     "output_type": "display_data"
    }
   ],
   "source": [
    "f = plt.figure(figsize=(15,7))\n",
    "ax=sns.barplot(y = 'Age_Group',\n",
    "            x = 'COVID-19_Deaths',\n",
    "            data = df3)\n",
    "plt.ylabel(\"Age Groups\",fontsize=15)\n",
    "# plt.xticks(rotation=90)\n",
    "plt.xlabel(\"Covid-19 Deaths\", fontsize=15)\n",
    "plt.title(\"Covid-19 Deaths Per Age Groups\",fontsize=15)\n"
   ]
  },
  {
   "cell_type": "code",
   "execution_count": 88,
   "metadata": {},
   "outputs": [],
   "source": [
    "df_infDeath=pd.pivot_table(df, index='Age_Group', values='Influenza_Deaths', aggfunc='sum').reset_index()"
   ]
  },
  {
   "cell_type": "code",
   "execution_count": 99,
   "metadata": {},
   "outputs": [
    {
     "data": {
      "text/plain": [
       "Text(0.5, 1.0, 'Influenza Deaths Per Age Groups')"
      ]
     },
     "execution_count": 99,
     "metadata": {},
     "output_type": "execute_result"
    },
    {
     "data": {
      "image/png": "[encoded data removed]",
      "text/plain": [
       "<Figure size 1080x504 with 1 Axes>"
      ]
     },
     "metadata": {},
     "output_type": "display_data"
    }
   ],
   "source": [
    "f = plt.figure(figsize=(15,7))\n",
    "ax=sns.barplot(y = 'Age_Group',\n",
    "            x = 'Influenza_Deaths',\n",
    "            data = df_infDeath)\n",
    "plt.ylabel(\"Age Groups\",fontsize=15)\n",
    "# plt.xticks(rotation=90)\n",
    "plt.xlabel(\"Influenza Deaths\", fontsize=15)\n",
    "plt.title(\"Influenza Deaths Per Age Groups\",fontsize=15)"
   ]
  },
  {
   "cell_type": "code",
   "execution_count": 97,
   "metadata": {},
   "outputs": [],
   "source": [
    "df_PneuDeath=pd.pivot_table(df, index='Age_Group', values='Pneumonia_Deaths', aggfunc='sum').reset_index()"
   ]
  },
  {
   "cell_type": "code",
   "execution_count": 100,
   "metadata": {},
   "outputs": [
    {
     "data": {
      "text/plain": [
       "Text(0.5, 1.0, 'Pneumonia Deaths per Age Groups')"
      ]
     },
     "execution_count": 100,
     "metadata": {},
     "output_type": "execute_result"
    },
    {
     "data": {
      "image/png": "[encoded data removed]",
      "text/plain": [
       "<Figure size 1080x504 with 1 Axes>"
      ]
     },
     "metadata": {},
     "output_type": "display_data"
    }
   ],
   "source": [
    "f = plt.figure(figsize=(15,7))\n",
    "ax=sns.barplot(y = 'Age_Group',\n",
    "            x = 'Pneumonia_Deaths',\n",
    "            data = df_PneuDeath)\n",
    "plt.ylabel(\"Age Groups\",fontsize=15)\n",
    "# plt.xticks(rotation=90)\n",
    "plt.xlabel(\"Pneumonia Deaths\", fontsize=15)\n",
    "plt.title(\"Pneumonia Deaths per Age Groups\",fontsize=15)"
   ]
  },
  {
   "cell_type": "code",
   "execution_count": null,
   "metadata": {},
   "outputs": [],
   "source": []
  },
  {
   "cell_type": "code",
   "execution_count": 109,
   "metadata": {},
   "outputs": [],
   "source": [
    "df4=pd.pivot_table(df, index='Sex', values='COVID-19_Deaths', aggfunc='sum').reset_index()"
   ]
  },
  {
   "cell_type": "code",
   "execution_count": 113,
   "metadata": {},
   "outputs": [
    {
     "data": {
      "text/plain": [
       "Text(0.5, 1.0, 'Covid 19 Deaths per Sex')"
      ]
     },
     "execution_count": 113,
     "metadata": {},
     "output_type": "execute_result"
    },
    {
     "data": {
      "image/png": "[encoded data removed]",
      "text/plain": [
       "<Figure size 1080x504 with 1 Axes>"
      ]
     },
     "metadata": {},
     "output_type": "display_data"
    }
   ],
   "source": [
    "f = plt.figure(figsize=(15,7))\n",
    "ax=sns.barplot(y = 'Sex',\n",
    "            x = 'COVID-19_Deaths',\n",
    "            data = df4)\n",
    "plt.ylabel(\"Gender\",fontsize=15)\n",
    "#plt.xticks(rotation=90)\n",
    "plt.xlabel(\"COVID-19 Deaths\", fontsize=15)\n",
    "plt.title(\"Covid 19 Deaths per Sex\",fontsize=15)"
   ]
  },
  {
   "cell_type": "code",
   "execution_count": 58,
   "metadata": {},
   "outputs": [],
   "source": [
    "df5=pd.pivot_table(df, index='Sex', values='Influenza_Deaths', aggfunc='sum').reset_index()"
   ]
  },
  {
   "cell_type": "code",
   "execution_count": 117,
   "metadata": {
    "scrolled": true
   },
   "outputs": [
    {
     "data": {
      "text/plain": [
       "Text(0.5, 1.0, 'Influenza Deaths per Sex')"
      ]
     },
     "execution_count": 117,
     "metadata": {},
     "output_type": "execute_result"
    },
    {
     "data": {
      "image/png": "[encoded data removed]",
      "text/plain": [
       "<Figure size 1080x288 with 1 Axes>"
      ]
     },
     "metadata": {},
     "output_type": "display_data"
    }
   ],
   "source": [
    "f = plt.figure(figsize=(15,4))\n",
    "ax=sns.barplot(y = 'Sex',\n",
    "            x = 'Influenza_Deaths',\n",
    "            data = df5)\n",
    "plt.ylabel(\"Gender\",fontsize=15)\n",
    "#plt.xticks(rotation=90)\n",
    "plt.xlabel(\"Influenza_Deaths\", fontsize=15)\n",
    "plt.title(\"Influenza Deaths per Sex\",fontsize=15)"
   ]
  },
  {
   "cell_type": "code",
   "execution_count": 123,
   "metadata": {},
   "outputs": [],
   "source": [
    "df6=pd.pivot_table(df, index='Sex', values='Pneumonia_Deaths', aggfunc='sum').reset_index()"
   ]
  },
  {
   "cell_type": "code",
   "execution_count": 124,
   "metadata": {},
   "outputs": [
    {
     "data": {
      "text/html": [
       "<div>\n",
       "<style scoped>\n",
       "    .dataframe tbody tr th:only-of-type {\n",
       "        vertical-align: middle;\n",
       "    }\n",
       "\n",
       "    .dataframe tbody tr th {\n",
       "        vertical-align: top;\n",
       "    }\n",
       "\n",
       "    .dataframe thead th {\n",
       "        text-align: right;\n",
       "    }\n",
       "</style>\n",
       "<table border=\"1\" class=\"dataframe\">\n",
       "  <thead>\n",
       "    <tr style=\"text-align: right;\">\n",
       "      <th></th>\n",
       "      <th>Sex</th>\n",
       "      <th>Pneumonia_Deaths</th>\n",
       "    </tr>\n",
       "  </thead>\n",
       "  <tbody>\n",
       "    <tr>\n",
       "      <th>0</th>\n",
       "      <td>All Sexes</td>\n",
       "      <td>1.739141e+07</td>\n",
       "    </tr>\n",
       "    <tr>\n",
       "      <th>1</th>\n",
       "      <td>Female</td>\n",
       "      <td>9.958946e+06</td>\n",
       "    </tr>\n",
       "    <tr>\n",
       "      <th>2</th>\n",
       "      <td>Male</td>\n",
       "      <td>1.166647e+07</td>\n",
       "    </tr>\n",
       "  </tbody>\n",
       "</table>\n",
       "</div>"
      ],
      "text/plain": [
       "         Sex  Pneumonia_Deaths\n",
       "0  All Sexes      1.739141e+07\n",
       "1     Female      9.958946e+06\n",
       "2       Male      1.166647e+07"
      ]
     },
     "execution_count": 124,
     "metadata": {},
     "output_type": "execute_result"
    }
   ],
   "source": [
    "df6"
   ]
  },
  {
   "cell_type": "code",
   "execution_count": 125,
   "metadata": {},
   "outputs": [
    {
     "data": {
      "text/plain": [
       "Text(0.5, 1.0, 'Pneumonia Deaths per Sex')"
      ]
     },
     "execution_count": 125,
     "metadata": {},
     "output_type": "execute_result"
    },
    {
     "data": {
      "image/png": "[encoded data removed]",
      "text/plain": [
       "<Figure size 1080x504 with 1 Axes>"
      ]
     },
     "metadata": {},
     "output_type": "display_data"
    }
   ],
   "source": [
    "f = plt.figure(figsize=(15,7))\n",
    "ax=sns.barplot(y = 'Sex',\n",
    "            x = 'Pneumonia_Deaths',\n",
    "            data = df6)\n",
    "plt.ylabel(\"Gender\",fontsize=15)\n",
    "#plt.xticks(rotation=90)\n",
    "plt.xlabel(\"Pneumonia Deaths\", fontsize=15)\n",
    "plt.title(\"Pneumonia Deaths per Sex\",fontsize=15)"
   ]
  },
  {
   "cell_type": "code",
   "execution_count": 63,
   "metadata": {},
   "outputs": [
    {
     "name": "stdout",
     "output_type": "stream",
     "text": [
      "<class 'pandas.core.frame.DataFrame'>\n",
      "RangeIndex: 107406 entries, 0 to 107405\n",
      "Data columns (total 15 columns):\n",
      " #   Column                                    Non-Null Count   Dtype         \n",
      "---  ------                                    --------------   -----         \n",
      " 0   Data_As_Of                                107406 non-null  datetime64[ns]\n",
      " 1   Start_Date                                107406 non-null  datetime64[ns]\n",
      " 2   End_Date                                  107406 non-null  datetime64[ns]\n",
      " 3   Group                                     107406 non-null  object        \n",
      " 4   Year                                      107406 non-null  float64       \n",
      " 5   Month                                     107406 non-null  float64       \n",
      " 6   State                                     107406 non-null  object        \n",
      " 7   Sex                                       107406 non-null  object        \n",
      " 8   Age_Group                                 107406 non-null  object        \n",
      " 9   COVID-19_Deaths                           107406 non-null  float64       \n",
      " 10  Total_Deaths                              107406 non-null  float64       \n",
      " 11  Pneumonia_Deaths                          107406 non-null  float64       \n",
      " 12  Pneumonia_and_COVID-19_Deaths             107406 non-null  float64       \n",
      " 13  Influenza_Deaths                          107406 non-null  float64       \n",
      " 14  Pneumonia,_Influenza,_or_COVID-19_Deaths  107406 non-null  float64       \n",
      "dtypes: datetime64[ns](3), float64(8), object(4)\n",
      "memory usage: 12.3+ MB\n"
     ]
    }
   ],
   "source": [
    "df.info()"
   ]
  },
  {
   "cell_type": "code",
   "execution_count": 64,
   "metadata": {},
   "outputs": [
    {
     "data": {
      "text/plain": [
       "array(['2020-01-01T00:00:00.000000000', '2021-01-01T00:00:00.000000000',\n",
       "       '2022-01-01T00:00:00.000000000', '2020-02-01T00:00:00.000000000',\n",
       "       '2020-03-01T00:00:00.000000000', '2020-04-01T00:00:00.000000000',\n",
       "       '2020-05-01T00:00:00.000000000', '2020-06-01T00:00:00.000000000',\n",
       "       '2020-07-01T00:00:00.000000000', '2020-08-01T00:00:00.000000000',\n",
       "       '2020-09-01T00:00:00.000000000', '2020-10-01T00:00:00.000000000',\n",
       "       '2020-11-01T00:00:00.000000000', '2020-12-01T00:00:00.000000000',\n",
       "       '2021-02-01T00:00:00.000000000', '2021-03-01T00:00:00.000000000',\n",
       "       '2021-04-01T00:00:00.000000000', '2021-05-01T00:00:00.000000000',\n",
       "       '2021-06-01T00:00:00.000000000', '2021-07-01T00:00:00.000000000',\n",
       "       '2021-08-01T00:00:00.000000000', '2021-09-01T00:00:00.000000000',\n",
       "       '2021-10-01T00:00:00.000000000', '2021-11-01T00:00:00.000000000',\n",
       "       '2021-12-01T00:00:00.000000000', '2022-02-01T00:00:00.000000000',\n",
       "       '2022-03-01T00:00:00.000000000', '2022-04-01T00:00:00.000000000',\n",
       "       '2022-05-01T00:00:00.000000000', '2022-06-01T00:00:00.000000000',\n",
       "       '2022-07-01T00:00:00.000000000', '2022-08-01T00:00:00.000000000',\n",
       "       '2022-09-01T00:00:00.000000000', '2022-10-01T00:00:00.000000000',\n",
       "       '2022-11-01T00:00:00.000000000'], dtype='datetime64[ns]')"
      ]
     },
     "execution_count": 64,
     "metadata": {},
     "output_type": "execute_result"
    }
   ],
   "source": [
    "df['Start_Date'].unique()"
   ]
  },
  {
   "cell_type": "code",
   "execution_count": 65,
   "metadata": {},
   "outputs": [],
   "source": [
    "df['Start_Date'] = df['Start_Date'].dt.strftime('%Y-%m-%d')"
   ]
  },
  {
   "cell_type": "code",
   "execution_count": 66,
   "metadata": {},
   "outputs": [
    {
     "data": {
      "text/plain": [
       "0         2020-01-01\n",
       "1         2020-01-01\n",
       "2         2020-01-01\n",
       "3         2020-01-01\n",
       "4         2020-01-01\n",
       "             ...    \n",
       "107401    2022-11-01\n",
       "107402    2022-11-01\n",
       "107403    2022-11-01\n",
       "107404    2022-11-01\n",
       "107405    2022-11-01\n",
       "Name: Start_Date, Length: 107406, dtype: object"
      ]
     },
     "execution_count": 66,
     "metadata": {},
     "output_type": "execute_result"
    }
   ],
   "source": [
    "df['Start_Date']"
   ]
  },
  {
   "cell_type": "code",
   "execution_count": 67,
   "metadata": {},
   "outputs": [],
   "source": [
    "df7=pd.pivot_table(df, index='Start_Date', values='Total_Deaths', aggfunc='sum').reset_index()"
   ]
  },
  {
   "cell_type": "code",
   "execution_count": 68,
   "metadata": {},
   "outputs": [],
   "source": [
    "df8=df7.head()"
   ]
  },
  {
   "cell_type": "code",
   "execution_count": 69,
   "metadata": {},
   "outputs": [
    {
     "data": {
      "image/png": "[encoded data removed]",
      "text/plain": [
       "<Figure size 4032x595.44 with 1 Axes>"
      ]
     },
     "metadata": {},
     "output_type": "display_data"
    }
   ],
   "source": [
    "sns.barplot(x = 'Start_Date',\n",
    "            y = 'Total_Deaths',\n",
    "            data = df8)\n",
    "sns.set(rc={'figure.figsize':(15,30)})"
   ]
  },
  {
   "cell_type": "code",
   "execution_count": 70,
   "metadata": {},
   "outputs": [],
   "source": [
    "df9=pd.pivot_table(df, index='Start_Date', values='COVID-19_Deaths', aggfunc='sum').reset_index()"
   ]
  },
  {
   "cell_type": "code",
   "execution_count": 71,
   "metadata": {},
   "outputs": [],
   "source": [
    "df10=df9.head()"
   ]
  },
  {
   "cell_type": "code",
   "execution_count": 72,
   "metadata": {},
   "outputs": [
    {
     "data": {
      "image/png": "[encoded data removed]",
      "text/plain": [
       "<Figure size 1080x2160 with 1 Axes>"
      ]
     },
     "metadata": {},
     "output_type": "display_data"
    }
   ],
   "source": [
    "sns.barplot(x = 'Start_Date',\n",
    "            y = 'COVID-19_Deaths',\n",
    "            data = df10)\n",
    "sns.set(rc={'figure.figsize':(15,30)})"
   ]
  },
  {
   "cell_type": "code",
   "execution_count": 73,
   "metadata": {},
   "outputs": [],
   "source": [
    "df11=pd.pivot_table(df, index='Start_Date', values='Pneumonia_and_COVID-19_Deaths', aggfunc='sum').reset_index()"
   ]
  },
  {
   "cell_type": "code",
   "execution_count": 74,
   "metadata": {},
   "outputs": [],
   "source": [
    "df12=df11.head()"
   ]
  },
  {
   "cell_type": "code",
   "execution_count": 75,
   "metadata": {
    "scrolled": true
   },
   "outputs": [
    {
     "data": {
      "image/png": "[encoded data removed]",
      "text/plain": [
       "<Figure size 1080x2160 with 1 Axes>"
      ]
     },
     "metadata": {},
     "output_type": "display_data"
    }
   ],
   "source": [
    "sns.barplot(x = 'Start_Date',\n",
    "            y = 'Pneumonia_and_COVID-19_Deaths',\n",
    "            data = df12)\n",
    "sns.set(rc={'figure.figsize':(10,30)})"
   ]
  },
  {
   "cell_type": "code",
   "execution_count": 76,
   "metadata": {},
   "outputs": [],
   "source": [
    "df.to_csv(r'PROJECTAIT.csv',index=False)"
   ]
  },
  {
   "cell_type": "code",
   "execution_count": 77,
   "metadata": {},
   "outputs": [
    {
     "data": {
      "text/html": [
       "<div>\n",
       "<style scoped>\n",
       "    .dataframe tbody tr th:only-of-type {\n",
       "        vertical-align: middle;\n",
       "    }\n",
       "\n",
       "    .dataframe tbody tr th {\n",
       "        vertical-align: top;\n",
       "    }\n",
       "\n",
       "    .dataframe thead th {\n",
       "        text-align: right;\n",
       "    }\n",
       "</style>\n",
       "<table border=\"1\" class=\"dataframe\">\n",
       "  <thead>\n",
       "    <tr style=\"text-align: right;\">\n",
       "      <th></th>\n",
       "      <th>Data_As_Of</th>\n",
       "      <th>Start_Date</th>\n",
       "      <th>End_Date</th>\n",
       "      <th>Group</th>\n",
       "      <th>Year</th>\n",
       "      <th>Month</th>\n",
       "      <th>State</th>\n",
       "      <th>Sex</th>\n",
       "      <th>Age_Group</th>\n",
       "      <th>COVID-19_Deaths</th>\n",
       "      <th>Total_Deaths</th>\n",
       "      <th>Pneumonia_Deaths</th>\n",
       "      <th>Pneumonia_and_COVID-19_Deaths</th>\n",
       "      <th>Influenza_Deaths</th>\n",
       "      <th>Pneumonia,_Influenza,_or_COVID-19_Deaths</th>\n",
       "    </tr>\n",
       "  </thead>\n",
       "  <tbody>\n",
       "    <tr>\n",
       "      <th>0</th>\n",
       "      <td>2022-11-23</td>\n",
       "      <td>2020-01-01</td>\n",
       "      <td>2022-11-19</td>\n",
       "      <td>By Total</td>\n",
       "      <td>2020.0</td>\n",
       "      <td>6.0</td>\n",
       "      <td>United States</td>\n",
       "      <td>All Sexes</td>\n",
       "      <td>All Ages</td>\n",
       "      <td>1.072281e+06</td>\n",
       "      <td>9646378.0</td>\n",
       "      <td>995217.000000</td>\n",
       "      <td>542213.000000</td>\n",
       "      <td>12920.000000</td>\n",
       "      <td>1.536351e+06</td>\n",
       "    </tr>\n",
       "    <tr>\n",
       "      <th>1</th>\n",
       "      <td>2022-11-23</td>\n",
       "      <td>2020-01-01</td>\n",
       "      <td>2022-11-19</td>\n",
       "      <td>By Total</td>\n",
       "      <td>2020.0</td>\n",
       "      <td>6.0</td>\n",
       "      <td>United States</td>\n",
       "      <td>All Sexes</td>\n",
       "      <td>Under 1 year</td>\n",
       "      <td>3.850000e+02</td>\n",
       "      <td>56066.0</td>\n",
       "      <td>751.000000</td>\n",
       "      <td>64.000000</td>\n",
       "      <td>44.000000</td>\n",
       "      <td>1.114000e+03</td>\n",
       "    </tr>\n",
       "    <tr>\n",
       "      <th>2</th>\n",
       "      <td>2022-11-23</td>\n",
       "      <td>2020-01-01</td>\n",
       "      <td>2022-11-19</td>\n",
       "      <td>By Total</td>\n",
       "      <td>2020.0</td>\n",
       "      <td>6.0</td>\n",
       "      <td>United States</td>\n",
       "      <td>All Sexes</td>\n",
       "      <td>0-17 years</td>\n",
       "      <td>1.368000e+03</td>\n",
       "      <td>99685.0</td>\n",
       "      <td>2079.000000</td>\n",
       "      <td>349.000000</td>\n",
       "      <td>279.000000</td>\n",
       "      <td>3.363000e+03</td>\n",
       "    </tr>\n",
       "    <tr>\n",
       "      <th>3</th>\n",
       "      <td>2022-11-23</td>\n",
       "      <td>2020-01-01</td>\n",
       "      <td>2022-11-19</td>\n",
       "      <td>By Total</td>\n",
       "      <td>2020.0</td>\n",
       "      <td>6.0</td>\n",
       "      <td>United States</td>\n",
       "      <td>All Sexes</td>\n",
       "      <td>1-4 years</td>\n",
       "      <td>2.080000e+02</td>\n",
       "      <td>10709.0</td>\n",
       "      <td>445.000000</td>\n",
       "      <td>48.000000</td>\n",
       "      <td>91.000000</td>\n",
       "      <td>6.920000e+02</td>\n",
       "    </tr>\n",
       "    <tr>\n",
       "      <th>4</th>\n",
       "      <td>2022-11-23</td>\n",
       "      <td>2020-01-01</td>\n",
       "      <td>2022-11-19</td>\n",
       "      <td>By Total</td>\n",
       "      <td>2020.0</td>\n",
       "      <td>6.0</td>\n",
       "      <td>United States</td>\n",
       "      <td>All Sexes</td>\n",
       "      <td>5-14 years</td>\n",
       "      <td>4.270000e+02</td>\n",
       "      <td>16742.0</td>\n",
       "      <td>580.000000</td>\n",
       "      <td>123.000000</td>\n",
       "      <td>116.000000</td>\n",
       "      <td>9.930000e+02</td>\n",
       "    </tr>\n",
       "    <tr>\n",
       "      <th>...</th>\n",
       "      <td>...</td>\n",
       "      <td>...</td>\n",
       "      <td>...</td>\n",
       "      <td>...</td>\n",
       "      <td>...</td>\n",
       "      <td>...</td>\n",
       "      <td>...</td>\n",
       "      <td>...</td>\n",
       "      <td>...</td>\n",
       "      <td>...</td>\n",
       "      <td>...</td>\n",
       "      <td>...</td>\n",
       "      <td>...</td>\n",
       "      <td>...</td>\n",
       "      <td>...</td>\n",
       "    </tr>\n",
       "    <tr>\n",
       "      <th>107401</th>\n",
       "      <td>2022-11-23</td>\n",
       "      <td>2022-11-01</td>\n",
       "      <td>2022-11-19</td>\n",
       "      <td>By Month</td>\n",
       "      <td>2022.0</td>\n",
       "      <td>11.0</td>\n",
       "      <td>Puerto Rico</td>\n",
       "      <td>Female</td>\n",
       "      <td>50-64 years</td>\n",
       "      <td>3.706247e+02</td>\n",
       "      <td>54.0</td>\n",
       "      <td>363.264847</td>\n",
       "      <td>185.773724</td>\n",
       "      <td>0.000000</td>\n",
       "      <td>5.548433e+02</td>\n",
       "    </tr>\n",
       "    <tr>\n",
       "      <th>107402</th>\n",
       "      <td>2022-11-23</td>\n",
       "      <td>2022-11-01</td>\n",
       "      <td>2022-11-19</td>\n",
       "      <td>By Month</td>\n",
       "      <td>2022.0</td>\n",
       "      <td>11.0</td>\n",
       "      <td>Puerto Rico</td>\n",
       "      <td>Female</td>\n",
       "      <td>55-64 years</td>\n",
       "      <td>0.000000e+00</td>\n",
       "      <td>46.0</td>\n",
       "      <td>363.264847</td>\n",
       "      <td>0.000000</td>\n",
       "      <td>0.000000</td>\n",
       "      <td>5.548433e+02</td>\n",
       "    </tr>\n",
       "    <tr>\n",
       "      <th>107403</th>\n",
       "      <td>2022-11-23</td>\n",
       "      <td>2022-11-01</td>\n",
       "      <td>2022-11-19</td>\n",
       "      <td>By Month</td>\n",
       "      <td>2022.0</td>\n",
       "      <td>11.0</td>\n",
       "      <td>Puerto Rico</td>\n",
       "      <td>Female</td>\n",
       "      <td>65-74 years</td>\n",
       "      <td>3.706247e+02</td>\n",
       "      <td>106.0</td>\n",
       "      <td>13.000000</td>\n",
       "      <td>185.773724</td>\n",
       "      <td>0.000000</td>\n",
       "      <td>1.400000e+01</td>\n",
       "    </tr>\n",
       "    <tr>\n",
       "      <th>107404</th>\n",
       "      <td>2022-11-23</td>\n",
       "      <td>2022-11-01</td>\n",
       "      <td>2022-11-19</td>\n",
       "      <td>By Month</td>\n",
       "      <td>2022.0</td>\n",
       "      <td>11.0</td>\n",
       "      <td>Puerto Rico</td>\n",
       "      <td>Female</td>\n",
       "      <td>75-84 years</td>\n",
       "      <td>1.000000e+01</td>\n",
       "      <td>151.0</td>\n",
       "      <td>26.000000</td>\n",
       "      <td>185.773724</td>\n",
       "      <td>3.628141</td>\n",
       "      <td>3.000000e+01</td>\n",
       "    </tr>\n",
       "    <tr>\n",
       "      <th>107405</th>\n",
       "      <td>2022-11-23</td>\n",
       "      <td>2022-11-01</td>\n",
       "      <td>2022-11-19</td>\n",
       "      <td>By Month</td>\n",
       "      <td>2022.0</td>\n",
       "      <td>11.0</td>\n",
       "      <td>Puerto Rico</td>\n",
       "      <td>Female</td>\n",
       "      <td>85 years and over</td>\n",
       "      <td>1.500000e+01</td>\n",
       "      <td>186.0</td>\n",
       "      <td>34.000000</td>\n",
       "      <td>185.773724</td>\n",
       "      <td>3.628141</td>\n",
       "      <td>4.000000e+01</td>\n",
       "    </tr>\n",
       "  </tbody>\n",
       "</table>\n",
       "<p>107406 rows × 15 columns</p>\n",
       "</div>"
      ],
      "text/plain": [
       "       Data_As_Of  Start_Date   End_Date     Group    Year  Month  \\\n",
       "0      2022-11-23  2020-01-01 2022-11-19  By Total  2020.0    6.0   \n",
       "1      2022-11-23  2020-01-01 2022-11-19  By Total  2020.0    6.0   \n",
       "2      2022-11-23  2020-01-01 2022-11-19  By Total  2020.0    6.0   \n",
       "3      2022-11-23  2020-01-01 2022-11-19  By Total  2020.0    6.0   \n",
       "4      2022-11-23  2020-01-01 2022-11-19  By Total  2020.0    6.0   \n",
       "...           ...         ...        ...       ...     ...    ...   \n",
       "107401 2022-11-23  2022-11-01 2022-11-19  By Month  2022.0   11.0   \n",
       "107402 2022-11-23  2022-11-01 2022-11-19  By Month  2022.0   11.0   \n",
       "107403 2022-11-23  2022-11-01 2022-11-19  By Month  2022.0   11.0   \n",
       "107404 2022-11-23  2022-11-01 2022-11-19  By Month  2022.0   11.0   \n",
       "107405 2022-11-23  2022-11-01 2022-11-19  By Month  2022.0   11.0   \n",
       "\n",
       "                State        Sex          Age_Group  COVID-19_Deaths  \\\n",
       "0       United States  All Sexes           All Ages     1.072281e+06   \n",
       "1       United States  All Sexes       Under 1 year     3.850000e+02   \n",
       "2       United States  All Sexes         0-17 years     1.368000e+03   \n",
       "3       United States  All Sexes          1-4 years     2.080000e+02   \n",
       "4       United States  All Sexes         5-14 years     4.270000e+02   \n",
       "...               ...        ...                ...              ...   \n",
       "107401    Puerto Rico     Female        50-64 years     3.706247e+02   \n",
       "107402    Puerto Rico     Female        55-64 years     0.000000e+00   \n",
       "107403    Puerto Rico     Female        65-74 years     3.706247e+02   \n",
       "107404    Puerto Rico     Female        75-84 years     1.000000e+01   \n",
       "107405    Puerto Rico     Female  85 years and over     1.500000e+01   \n",
       "\n",
       "        Total_Deaths  Pneumonia_Deaths  Pneumonia_and_COVID-19_Deaths  \\\n",
       "0          9646378.0     995217.000000                  542213.000000   \n",
       "1            56066.0        751.000000                      64.000000   \n",
       "2            99685.0       2079.000000                     349.000000   \n",
       "3            10709.0        445.000000                      48.000000   \n",
       "4            16742.0        580.000000                     123.000000   \n",
       "...              ...               ...                            ...   \n",
       "107401          54.0        363.264847                     185.773724   \n",
       "107402          46.0        363.264847                       0.000000   \n",
       "107403         106.0         13.000000                     185.773724   \n",
       "107404         151.0         26.000000                     185.773724   \n",
       "107405         186.0         34.000000                     185.773724   \n",
       "\n",
       "        Influenza_Deaths  Pneumonia,_Influenza,_or_COVID-19_Deaths  \n",
       "0           12920.000000                              1.536351e+06  \n",
       "1              44.000000                              1.114000e+03  \n",
       "2             279.000000                              3.363000e+03  \n",
       "3              91.000000                              6.920000e+02  \n",
       "4             116.000000                              9.930000e+02  \n",
       "...                  ...                                       ...  \n",
       "107401          0.000000                              5.548433e+02  \n",
       "107402          0.000000                              5.548433e+02  \n",
       "107403          0.000000                              1.400000e+01  \n",
       "107404          3.628141                              3.000000e+01  \n",
       "107405          3.628141                              4.000000e+01  \n",
       "\n",
       "[107406 rows x 15 columns]"
      ]
     },
     "execution_count": 77,
     "metadata": {},
     "output_type": "execute_result"
    }
   ],
   "source": [
    "df"
   ]
  },
  {
   "cell_type": "code",
   "execution_count": null,
   "metadata": {},
   "outputs": [],
   "source": []
  }
 ],
 "metadata": {
  "kernelspec": {
   "display_name": "Python 3",
   "language": "python",
   "name": "python3"
  },
  "language_info": {
   "codemirror_mode": {
    "name": "ipython",
    "version": 3
   },
   "file_extension": ".py",
   "mimetype": "text/x-python",
   "name": "python",
   "nbconvert_exporter": "python",
   "pygments_lexer": "ipython3",
   "version": "3.8.5"
  }
 },
 "nbformat": 4,
 "nbformat_minor": 4
}
